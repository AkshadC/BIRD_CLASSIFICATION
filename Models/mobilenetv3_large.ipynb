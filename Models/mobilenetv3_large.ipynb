{
 "cells": [
  {
   "cell_type": "code",
   "execution_count": 14,
   "id": "initial_id",
   "metadata": {
    "collapsed": true,
    "ExecuteTime": {
     "end_time": "2024-03-25T01:48:06.099925963Z",
     "start_time": "2024-03-25T01:48:02.875274583Z"
    }
   },
   "outputs": [
    {
     "name": "stderr",
     "output_type": "stream",
     "text": [
      "2024-03-24 21:48:03.264543: I tensorflow/core/util/port.cc:111] oneDNN custom operations are on. You may see slightly different numerical results due to floating-point round-off errors from different computation orders. To turn them off, set the environment variable `TF_ENABLE_ONEDNN_OPTS=0`.\n",
      "2024-03-24 21:48:03.492302: E tensorflow/compiler/xla/stream_executor/cuda/cuda_dnn.cc:9342] Unable to register cuDNN factory: Attempting to register factory for plugin cuDNN when one has already been registered\n",
      "2024-03-24 21:48:03.492330: E tensorflow/compiler/xla/stream_executor/cuda/cuda_fft.cc:609] Unable to register cuFFT factory: Attempting to register factory for plugin cuFFT when one has already been registered\n",
      "2024-03-24 21:48:03.492353: E tensorflow/compiler/xla/stream_executor/cuda/cuda_blas.cc:1518] Unable to register cuBLAS factory: Attempting to register factory for plugin cuBLAS when one has already been registered\n",
      "2024-03-24 21:48:03.500522: I tensorflow/core/platform/cpu_feature_guard.cc:182] This TensorFlow binary is optimized to use available CPU instructions in performance-critical operations.\n",
      "To enable the following instructions: AVX2 AVX512F AVX512_VNNI AVX512_BF16 FMA, in other operations, rebuild TensorFlow with the appropriate compiler flags.\n",
      "2024-03-24 21:48:04.321506: W tensorflow/compiler/tf2tensorrt/utils/py_utils.cc:38] TF-TRT Warning: Could not find TensorRT\n"
     ]
    },
    {
     "name": "stdout",
     "output_type": "stream",
     "text": [
      "INFO:tensorflow:Mixed precision compatibility check (mixed_float16): OK\n",
      "Your GPU will likely run quickly with dtype policy mixed_float16 as it has compute capability of at least 7.0. Your GPU: NVIDIA GeForce RTX 4070 Laptop GPU, compute capability 8.9\n"
     ]
    },
    {
     "name": "stderr",
     "output_type": "stream",
     "text": [
      "2024-03-24 21:48:06.048404: I tensorflow/compiler/xla/stream_executor/cuda/cuda_gpu_executor.cc:894] successful NUMA node read from SysFS had negative value (-1), but there must be at least one NUMA node, so returning NUMA node zero. See more at https://github.com/torvalds/linux/blob/v6.0/Documentation/ABI/testing/sysfs-bus-pci#L344-L355\n",
      "2024-03-24 21:48:06.095800: I tensorflow/compiler/xla/stream_executor/cuda/cuda_gpu_executor.cc:894] successful NUMA node read from SysFS had negative value (-1), but there must be at least one NUMA node, so returning NUMA node zero. See more at https://github.com/torvalds/linux/blob/v6.0/Documentation/ABI/testing/sysfs-bus-pci#L344-L355\n",
      "2024-03-24 21:48:06.096056: I tensorflow/compiler/xla/stream_executor/cuda/cuda_gpu_executor.cc:894] successful NUMA node read from SysFS had negative value (-1), but there must be at least one NUMA node, so returning NUMA node zero. See more at https://github.com/torvalds/linux/blob/v6.0/Documentation/ABI/testing/sysfs-bus-pci#L344-L355\n",
      "2024-03-24 21:48:06.096385: I tensorflow/compiler/xla/stream_executor/cuda/cuda_gpu_executor.cc:894] successful NUMA node read from SysFS had negative value (-1), but there must be at least one NUMA node, so returning NUMA node zero. See more at https://github.com/torvalds/linux/blob/v6.0/Documentation/ABI/testing/sysfs-bus-pci#L344-L355\n"
     ]
    }
   ],
   "source": [
    "import tensorflow as tf\n",
    "from tensorflow.keras import layers\n",
    "import utils\n",
    "from tensorflow.keras import mixed_precision\n",
    "import os\n",
    "from tensorflow.keras.models import Model\n",
    "from tensorflow.keras.optimizers import Adam, SGD\n",
    "from tensorflow.keras.callbacks import ModelCheckpoint, EarlyStopping\n",
    "mixed_precision.set_global_policy('mixed_float16')\n",
    "import logging\n",
    "tf.get_logger().setLevel(logging.ERROR)"
   ]
  },
  {
   "cell_type": "code",
   "outputs": [
    {
     "data": {
      "text/plain": "'blue_gray_gnatcatcher'"
     },
     "execution_count": 8,
     "metadata": {},
     "output_type": "execute_result"
    }
   ],
   "source": [
    "import os \n",
    "sorted(os.listdir(\"BIRDS1_split/train_165\"))[35]"
   ],
   "metadata": {
    "collapsed": false,
    "ExecuteTime": {
     "end_time": "2024-03-24T18:40:06.362743581Z",
     "start_time": "2024-03-24T18:40:06.358579492Z"
    }
   },
   "id": "99f216361ef1b478",
   "execution_count": 8
  },
  {
   "cell_type": "code",
   "outputs": [
    {
     "data": {
      "text/plain": "'black_vulture'"
     },
     "execution_count": 10,
     "metadata": {},
     "output_type": "execute_result"
    }
   ],
   "source": [
    "import os \n",
    "sorted(os.listdir(\"BIRDS1_split/train\"))[35]"
   ],
   "metadata": {
    "collapsed": false,
    "ExecuteTime": {
     "end_time": "2024-03-24T18:40:20.736598980Z",
     "start_time": "2024-03-24T18:40:20.689950391Z"
    }
   },
   "id": "49449469da8ce689",
   "execution_count": 10
  },
  {
   "cell_type": "code",
   "outputs": [],
   "source": [
    "train_data_path = \"BIRDS1_split/train\"\n",
    "test_data_path = \"BIRDS1_split/test\"\n",
    "IMG_HEIGHT, IMG_WIDTH = 224, 224\n",
    "BATCH_SIZE = 32\n",
    "bird_classes = sorted(os.listdir(train_data_path))"
   ],
   "metadata": {
    "collapsed": false,
    "ExecuteTime": {
     "end_time": "2024-03-23T14:52:12.583693067Z",
     "start_time": "2024-03-23T14:52:12.581377725Z"
    }
   },
   "id": "6ef16eed851f94c6",
   "execution_count": 2
  },
  {
   "cell_type": "code",
   "outputs": [
    {
     "name": "stdout",
     "output_type": "stream",
     "text": [
      "Found 25744 files belonging to 167 classes.\n",
      "Using 18021 files for training.\n",
      "Found 25744 files belonging to 167 classes.\n",
      "Using 7723 files for validation.\n",
      "Found 11545 files belonging to 167 classes.\n"
     ]
    }
   ],
   "source": [
    "train_dataset = tf.keras.preprocessing.image_dataset_from_directory(\n",
    "    train_data_path,\n",
    "    labels='inferred',\n",
    "    label_mode='categorical',\n",
    "    batch_size=BATCH_SIZE,\n",
    "    image_size=(IMG_HEIGHT, IMG_WIDTH),\n",
    "    shuffle=True,\n",
    "    seed=123,\n",
    "    validation_split=0.3,\n",
    "    subset='training'\n",
    ")\n",
    "\n",
    "validation_dataset = tf.keras.preprocessing.image_dataset_from_directory(\n",
    "    train_data_path,\n",
    "    labels='inferred',\n",
    "    label_mode='categorical',\n",
    "    batch_size=BATCH_SIZE,\n",
    "    image_size=(IMG_HEIGHT, IMG_WIDTH),\n",
    "    shuffle=False,\n",
    "    seed=123,\n",
    "    validation_split=0.3,\n",
    "    subset='validation'\n",
    ")\n",
    "test_dataset = tf.keras.preprocessing.image_dataset_from_directory(\n",
    "    test_data_path,\n",
    "    labels='inferred',\n",
    "    label_mode='categorical',\n",
    "    batch_size=BATCH_SIZE,\n",
    "    image_size=(IMG_HEIGHT, IMG_WIDTH),\n",
    "    shuffle=False,\n",
    "    seed=123,\n",
    "\n",
    ")\n"
   ],
   "metadata": {
    "collapsed": false,
    "ExecuteTime": {
     "end_time": "2024-03-23T15:34:59.019004869Z",
     "start_time": "2024-03-23T15:34:57.583550525Z"
    }
   },
   "id": "727dfbfe4c00fe25",
   "execution_count": 27
  },
  {
   "cell_type": "code",
   "outputs": [],
   "source": [
    "preprocess_input = tf.keras.applications.mobilenet_v3.preprocess_input\n",
    "train_dataset = train_dataset.map(lambda x, y: (preprocess_input(x), y))\n",
    "validation_dataset = validation_dataset.map(lambda x, y: (preprocess_input(x), y))\n",
    "test_dataset = test_dataset.map(lambda x, y: (preprocess_input(x), y))"
   ],
   "metadata": {
    "collapsed": false,
    "ExecuteTime": {
     "end_time": "2024-03-23T15:35:00.631620346Z",
     "start_time": "2024-03-23T15:35:00.616092321Z"
    }
   },
   "id": "10dd6962d0bf3fe8",
   "execution_count": 28
  },
  {
   "cell_type": "code",
   "outputs": [
    {
     "name": "stdout",
     "output_type": "stream",
     "text": [
      "input_1\n",
      "rescaling\n",
      "Conv\n",
      "Conv/BatchNorm\n",
      "tf.math.add\n",
      "re_lu\n",
      "tf.math.multiply\n",
      "multiply\n",
      "expanded_conv/depthwise\n",
      "expanded_conv/depthwise/BatchNorm\n",
      "re_lu_1\n",
      "expanded_conv/project\n",
      "expanded_conv/project/BatchNorm\n",
      "expanded_conv/Add\n",
      "expanded_conv_1/expand\n",
      "expanded_conv_1/expand/BatchNorm\n",
      "re_lu_2\n",
      "expanded_conv_1/depthwise/pad\n",
      "expanded_conv_1/depthwise\n",
      "expanded_conv_1/depthwise/BatchNorm\n",
      "re_lu_3\n",
      "expanded_conv_1/project\n",
      "expanded_conv_1/project/BatchNorm\n",
      "expanded_conv_2/expand\n",
      "expanded_conv_2/expand/BatchNorm\n",
      "re_lu_4\n",
      "expanded_conv_2/depthwise\n",
      "expanded_conv_2/depthwise/BatchNorm\n",
      "re_lu_5\n",
      "expanded_conv_2/project\n",
      "expanded_conv_2/project/BatchNorm\n",
      "expanded_conv_2/Add\n",
      "expanded_conv_3/expand\n",
      "expanded_conv_3/expand/BatchNorm\n",
      "re_lu_6\n",
      "expanded_conv_3/depthwise/pad\n",
      "expanded_conv_3/depthwise\n",
      "expanded_conv_3/depthwise/BatchNorm\n",
      "re_lu_7\n",
      "expanded_conv_3/squeeze_excite/AvgPool\n",
      "expanded_conv_3/squeeze_excite/Conv\n",
      "expanded_conv_3/squeeze_excite/Relu\n",
      "expanded_conv_3/squeeze_excite/Conv_1\n",
      "tf.math.add_1\n",
      "re_lu_8\n",
      "tf.math.multiply_1\n",
      "expanded_conv_3/squeeze_excite/Mul\n",
      "expanded_conv_3/project\n",
      "expanded_conv_3/project/BatchNorm\n",
      "expanded_conv_4/expand\n",
      "expanded_conv_4/expand/BatchNorm\n",
      "re_lu_9\n",
      "expanded_conv_4/depthwise\n",
      "expanded_conv_4/depthwise/BatchNorm\n",
      "re_lu_10\n",
      "expanded_conv_4/squeeze_excite/AvgPool\n",
      "expanded_conv_4/squeeze_excite/Conv\n",
      "expanded_conv_4/squeeze_excite/Relu\n",
      "expanded_conv_4/squeeze_excite/Conv_1\n",
      "tf.math.add_2\n",
      "re_lu_11\n",
      "tf.math.multiply_2\n",
      "expanded_conv_4/squeeze_excite/Mul\n",
      "expanded_conv_4/project\n",
      "expanded_conv_4/project/BatchNorm\n",
      "expanded_conv_4/Add\n",
      "expanded_conv_5/expand\n",
      "expanded_conv_5/expand/BatchNorm\n",
      "re_lu_12\n",
      "expanded_conv_5/depthwise\n",
      "expanded_conv_5/depthwise/BatchNorm\n",
      "re_lu_13\n",
      "expanded_conv_5/squeeze_excite/AvgPool\n",
      "expanded_conv_5/squeeze_excite/Conv\n",
      "expanded_conv_5/squeeze_excite/Relu\n",
      "expanded_conv_5/squeeze_excite/Conv_1\n",
      "tf.math.add_3\n",
      "re_lu_14\n",
      "tf.math.multiply_3\n",
      "expanded_conv_5/squeeze_excite/Mul\n",
      "expanded_conv_5/project\n",
      "expanded_conv_5/project/BatchNorm\n",
      "expanded_conv_5/Add\n",
      "expanded_conv_6/expand\n",
      "expanded_conv_6/expand/BatchNorm\n",
      "tf.math.add_4\n",
      "re_lu_15\n",
      "tf.math.multiply_4\n",
      "multiply_1\n",
      "expanded_conv_6/depthwise/pad\n",
      "expanded_conv_6/depthwise\n",
      "expanded_conv_6/depthwise/BatchNorm\n",
      "tf.math.add_5\n",
      "re_lu_16\n",
      "tf.math.multiply_5\n",
      "multiply_2\n",
      "expanded_conv_6/project\n",
      "expanded_conv_6/project/BatchNorm\n",
      "expanded_conv_7/expand\n",
      "expanded_conv_7/expand/BatchNorm\n",
      "tf.math.add_6\n",
      "re_lu_17\n",
      "tf.math.multiply_6\n",
      "multiply_3\n",
      "expanded_conv_7/depthwise\n",
      "expanded_conv_7/depthwise/BatchNorm\n",
      "tf.math.add_7\n",
      "re_lu_18\n",
      "tf.math.multiply_7\n",
      "multiply_4\n",
      "expanded_conv_7/project\n",
      "expanded_conv_7/project/BatchNorm\n",
      "expanded_conv_7/Add\n",
      "expanded_conv_8/expand\n",
      "expanded_conv_8/expand/BatchNorm\n",
      "tf.math.add_8\n",
      "re_lu_19\n",
      "tf.math.multiply_8\n",
      "multiply_5\n",
      "expanded_conv_8/depthwise\n",
      "expanded_conv_8/depthwise/BatchNorm\n",
      "tf.math.add_9\n",
      "re_lu_20\n",
      "tf.math.multiply_9\n",
      "multiply_6\n",
      "expanded_conv_8/project\n",
      "expanded_conv_8/project/BatchNorm\n",
      "expanded_conv_8/Add\n",
      "expanded_conv_9/expand\n",
      "expanded_conv_9/expand/BatchNorm\n",
      "tf.math.add_10\n",
      "re_lu_21\n",
      "tf.math.multiply_10\n",
      "multiply_7\n",
      "expanded_conv_9/depthwise\n",
      "expanded_conv_9/depthwise/BatchNorm\n",
      "tf.math.add_11\n",
      "re_lu_22\n",
      "tf.math.multiply_11\n",
      "multiply_8\n",
      "expanded_conv_9/project\n",
      "expanded_conv_9/project/BatchNorm\n",
      "expanded_conv_9/Add\n",
      "expanded_conv_10/expand\n",
      "expanded_conv_10/expand/BatchNorm\n",
      "tf.math.add_12\n",
      "re_lu_23\n",
      "tf.math.multiply_12\n",
      "multiply_9\n",
      "expanded_conv_10/depthwise\n",
      "expanded_conv_10/depthwise/BatchNorm\n",
      "tf.math.add_13\n",
      "re_lu_24\n",
      "tf.math.multiply_13\n",
      "multiply_10\n",
      "expanded_conv_10/squeeze_excite/AvgPool\n",
      "expanded_conv_10/squeeze_excite/Conv\n",
      "expanded_conv_10/squeeze_excite/Relu\n",
      "expanded_conv_10/squeeze_excite/Conv_1\n",
      "tf.math.add_14\n",
      "re_lu_25\n",
      "tf.math.multiply_14\n",
      "expanded_conv_10/squeeze_excite/Mul\n",
      "expanded_conv_10/project\n",
      "expanded_conv_10/project/BatchNorm\n",
      "expanded_conv_11/expand\n",
      "expanded_conv_11/expand/BatchNorm\n",
      "tf.math.add_15\n",
      "re_lu_26\n",
      "tf.math.multiply_15\n",
      "multiply_11\n",
      "expanded_conv_11/depthwise\n",
      "expanded_conv_11/depthwise/BatchNorm\n",
      "tf.math.add_16\n",
      "re_lu_27\n",
      "tf.math.multiply_16\n",
      "multiply_12\n",
      "expanded_conv_11/squeeze_excite/AvgPool\n",
      "expanded_conv_11/squeeze_excite/Conv\n",
      "expanded_conv_11/squeeze_excite/Relu\n",
      "expanded_conv_11/squeeze_excite/Conv_1\n",
      "tf.math.add_17\n",
      "re_lu_28\n",
      "tf.math.multiply_17\n",
      "expanded_conv_11/squeeze_excite/Mul\n",
      "expanded_conv_11/project\n",
      "expanded_conv_11/project/BatchNorm\n",
      "expanded_conv_11/Add\n",
      "expanded_conv_12/expand\n",
      "expanded_conv_12/expand/BatchNorm\n",
      "tf.math.add_18\n",
      "re_lu_29\n",
      "tf.math.multiply_18\n",
      "multiply_13\n",
      "expanded_conv_12/depthwise/pad\n",
      "expanded_conv_12/depthwise\n",
      "expanded_conv_12/depthwise/BatchNorm\n",
      "tf.math.add_19\n",
      "re_lu_30\n",
      "tf.math.multiply_19\n",
      "multiply_14\n",
      "expanded_conv_12/squeeze_excite/AvgPool\n",
      "expanded_conv_12/squeeze_excite/Conv\n",
      "expanded_conv_12/squeeze_excite/Relu\n",
      "expanded_conv_12/squeeze_excite/Conv_1\n",
      "tf.math.add_20\n",
      "re_lu_31\n",
      "tf.math.multiply_20\n",
      "expanded_conv_12/squeeze_excite/Mul\n",
      "expanded_conv_12/project\n",
      "expanded_conv_12/project/BatchNorm\n",
      "expanded_conv_13/expand\n",
      "expanded_conv_13/expand/BatchNorm\n",
      "tf.math.add_21\n",
      "re_lu_32\n",
      "tf.math.multiply_21\n",
      "multiply_15\n",
      "expanded_conv_13/depthwise\n",
      "expanded_conv_13/depthwise/BatchNorm\n",
      "tf.math.add_22\n",
      "re_lu_33\n",
      "tf.math.multiply_22\n",
      "multiply_16\n",
      "expanded_conv_13/squeeze_excite/AvgPool\n",
      "expanded_conv_13/squeeze_excite/Conv\n",
      "expanded_conv_13/squeeze_excite/Relu\n",
      "expanded_conv_13/squeeze_excite/Conv_1\n",
      "tf.math.add_23\n",
      "re_lu_34\n",
      "tf.math.multiply_23\n",
      "expanded_conv_13/squeeze_excite/Mul\n",
      "expanded_conv_13/project\n",
      "expanded_conv_13/project/BatchNorm\n",
      "expanded_conv_13/Add\n",
      "expanded_conv_14/expand\n",
      "expanded_conv_14/expand/BatchNorm\n",
      "tf.math.add_24\n",
      "re_lu_35\n",
      "tf.math.multiply_24\n",
      "multiply_17\n",
      "expanded_conv_14/depthwise\n",
      "expanded_conv_14/depthwise/BatchNorm\n",
      "tf.math.add_25\n",
      "re_lu_36\n",
      "tf.math.multiply_25\n",
      "multiply_18\n",
      "expanded_conv_14/squeeze_excite/AvgPool\n",
      "expanded_conv_14/squeeze_excite/Conv\n",
      "expanded_conv_14/squeeze_excite/Relu\n",
      "expanded_conv_14/squeeze_excite/Conv_1\n",
      "tf.math.add_26\n",
      "re_lu_37\n",
      "tf.math.multiply_26\n",
      "expanded_conv_14/squeeze_excite/Mul\n",
      "expanded_conv_14/project\n",
      "expanded_conv_14/project/BatchNorm\n",
      "expanded_conv_14/Add\n",
      "Conv_1\n",
      "Conv_1/BatchNorm\n",
      "tf.math.add_27\n",
      "re_lu_38\n",
      "tf.math.multiply_27\n",
      "multiply_19\n"
     ]
    }
   ],
   "source": [
    "base_model = tf.keras.applications.MobileNetV3Large(\n",
    "    weights='imagenet',\n",
    "    include_top=False,\n",
    "    input_shape=(IMG_HEIGHT, IMG_WIDTH, 3)\n",
    ")\n",
    "base_model.trainable = False\n",
    "\n",
    "for layer in base_model.layers:\n",
    "    print(layer.name)"
   ],
   "metadata": {
    "collapsed": false,
    "ExecuteTime": {
     "end_time": "2024-03-23T14:52:15.574341351Z",
     "start_time": "2024-03-23T14:52:14.676880898Z"
    }
   },
   "id": "50b9be6fe8e66d95",
   "execution_count": 5
  },
  {
   "cell_type": "code",
   "outputs": [],
   "source": [
    "from keras.src import regularizers\n",
    "\n",
    "base_model = tf.keras.applications.MobileNetV3Large(\n",
    "    weights='imagenet',\n",
    "    include_top=False,\n",
    "    input_shape=(IMG_HEIGHT, IMG_WIDTH, 3)\n",
    ")\n",
    "inputs = layers.Input(shape=(IMG_HEIGHT, IMG_WIDTH, 3), name=\"input_layer\")\n",
    "\n",
    "x = base_model(inputs, training=False)\n",
    "x = layers.GlobalAvgPool2D()(x)\n",
    "\n",
    "x = tf.keras.layers.Dense(512, activation='relu')(x)\n",
    "x = tf.keras.layers.Dense(512, activation='relu')(x)\n",
    "x = tf.keras.layers.Dropout(0.5)(x)\n",
    "x = tf.keras.layers.Dense(256, activation='relu', kernel_regularizer=regularizers.l2(0.001))(x)\n",
    "x = tf.keras.layers.Dense(256, activation='relu')(x)\n",
    "x = tf.keras.layers.Dense(256, activation='relu')(x)\n",
    "x = tf.keras.layers.Dropout(0.5)(x)\n",
    "x = tf.keras.layers.Dense(64, activation='relu', kernel_regularizer=regularizers.l2(0.001))(x)\n",
    "x = tf.keras.layers.Dense(64, activation='relu')(x)\n",
    "\n",
    "x = tf.keras.layers.Dropout(0.5)(x)\n",
    "\n",
    "outputs = layers.Dense(len(bird_classes), activation='softmax', dtype=tf.float32, kernel_regularizer=regularizers.l2(0.004))(x)\n",
    "\n",
    "model1 = tf.keras.Model(inputs, outputs)"
   ],
   "metadata": {
    "collapsed": false,
    "ExecuteTime": {
     "end_time": "2024-03-23T14:52:15.831646209Z",
     "start_time": "2024-03-23T14:52:15.579095292Z"
    }
   },
   "id": "3dec416dcefcbe82",
   "execution_count": 6
  },
  {
   "cell_type": "code",
   "outputs": [
    {
     "name": "stdout",
     "output_type": "stream",
     "text": [
      "Model: \"model\"\n",
      "_________________________________________________________________\n",
      " Layer (type)                Output Shape              Param #   \n",
      "=================================================================\n",
      " input_layer (InputLayer)    [(None, 224, 224, 3)]     0         \n",
      "                                                                 \n",
      " MobilenetV3large (Function  (None, 7, 7, 960)         2996352   \n",
      " al)                                                             \n",
      "                                                                 \n",
      " global_average_pooling2d (  (None, 960)               0         \n",
      " GlobalAveragePooling2D)                                         \n",
      "                                                                 \n",
      " dense (Dense)               (None, 512)               492032    \n",
      "                                                                 \n",
      " dense_1 (Dense)             (None, 512)               262656    \n",
      "                                                                 \n",
      " dropout (Dropout)           (None, 512)               0         \n",
      "                                                                 \n",
      " dense_2 (Dense)             (None, 256)               131328    \n",
      "                                                                 \n",
      " dense_3 (Dense)             (None, 256)               65792     \n",
      "                                                                 \n",
      " dense_4 (Dense)             (None, 256)               65792     \n",
      "                                                                 \n",
      " dropout_1 (Dropout)         (None, 256)               0         \n",
      "                                                                 \n",
      " dense_5 (Dense)             (None, 64)                16448     \n",
      "                                                                 \n",
      " dense_6 (Dense)             (None, 64)                4160      \n",
      "                                                                 \n",
      " dropout_2 (Dropout)         (None, 64)                0         \n",
      "                                                                 \n",
      " dense_7 (Dense)             (None, 167)               10855     \n",
      "                                                                 \n",
      "=================================================================\n",
      "Total params: 4045415 (15.43 MB)\n",
      "Trainable params: 1049063 (4.00 MB)\n",
      "Non-trainable params: 2996352 (11.43 MB)\n",
      "_________________________________________________________________\n"
     ]
    }
   ],
   "source": [
    "model1.summary()"
   ],
   "metadata": {
    "collapsed": false,
    "ExecuteTime": {
     "end_time": "2024-03-23T14:52:15.883297586Z",
     "start_time": "2024-03-23T14:52:15.832501177Z"
    }
   },
   "id": "ac06abe1f3451faa",
   "execution_count": 7
  },
  {
   "cell_type": "code",
   "outputs": [],
   "source": [
    "from keras.src.callbacks import ReduceLROnPlateau\n",
    "\n",
    "lr_scheduler = ReduceLROnPlateau(factor=0.5, patience=3) "
   ],
   "metadata": {
    "collapsed": false,
    "ExecuteTime": {
     "end_time": "2024-03-23T14:52:15.884424530Z",
     "start_time": "2024-03-23T14:52:15.882982640Z"
    }
   },
   "id": "4d4381a5b1f998b7",
   "execution_count": 8
  },
  {
   "cell_type": "code",
   "outputs": [
    {
     "name": "stdout",
     "output_type": "stream",
     "text": [
      "Epoch 1/20\n"
     ]
    },
    {
     "name": "stderr",
     "output_type": "stream",
     "text": [
      "2024-03-23 10:52:18.152103: I tensorflow/compiler/xla/stream_executor/cuda/cuda_dnn.cc:442] Loaded cuDNN version 8600\n",
      "2024-03-23 10:52:18.203267: I tensorflow/tsl/platform/default/subprocess.cc:304] Start cannot spawn child process: No such file or directory\n"
     ]
    },
    {
     "name": "stdout",
     "output_type": "stream",
     "text": [
      " 4/56 [=>............................] - ETA: 1s - loss: 5.8829 - accuracy: 0.0000e+00  "
     ]
    },
    {
     "name": "stderr",
     "output_type": "stream",
     "text": [
      "2024-03-23 10:52:19.045580: I tensorflow/compiler/xla/service/service.cc:168] XLA service 0x5e5201def140 initialized for platform CUDA (this does not guarantee that XLA will be used). Devices:\n",
      "2024-03-23 10:52:19.045601: I tensorflow/compiler/xla/service/service.cc:176]   StreamExecutor device (0): NVIDIA GeForce RTX 4070 Laptop GPU, Compute Capability 8.9\n",
      "2024-03-23 10:52:19.053667: I tensorflow/compiler/mlir/tensorflow/utils/dump_mlir_util.cc:269] disabling MLIR crash reproducer, set env var `MLIR_CRASH_REPRODUCER_DIRECTORY` to enable.\n",
      "2024-03-23 10:52:19.142607: I ./tensorflow/compiler/jit/device_compiler.h:186] Compiled cluster using XLA!  This line is logged at most once for the lifetime of the process.\n"
     ]
    },
    {
     "name": "stdout",
     "output_type": "stream",
     "text": [
      "54/56 [===========================>..] - ETA: 0s - loss: 5.7994 - accuracy: 0.0075\n",
      "Epoch 1: val_loss improved from inf to 5.59365, saving model to Best_models/best_mobilenetv3large/\n",
      "56/56 [==============================] - 13s 170ms/step - loss: 5.7946 - accuracy: 0.0078 - val_loss: 5.5936 - val_accuracy: 0.0000e+00\n",
      "Epoch 2/20\n",
      "55/56 [============================>.] - ETA: 0s - loss: 5.5747 - accuracy: 0.0125\n",
      "Epoch 2: val_loss improved from 5.59365 to 5.30970, saving model to Best_models/best_mobilenetv3large/\n",
      "56/56 [==============================] - 9s 155ms/step - loss: 5.5736 - accuracy: 0.0123 - val_loss: 5.3097 - val_accuracy: 0.0000e+00\n",
      "Epoch 3/20\n",
      "55/56 [============================>.] - ETA: 0s - loss: 5.3651 - accuracy: 0.0176\n",
      "Epoch 3: val_loss improved from 5.30970 to 4.99112, saving model to Best_models/best_mobilenetv3large/\n",
      "56/56 [==============================] - 9s 158ms/step - loss: 5.3638 - accuracy: 0.0173 - val_loss: 4.9911 - val_accuracy: 0.0000e+00\n",
      "Epoch 4/20\n",
      "55/56 [============================>.] - ETA: 0s - loss: 5.1501 - accuracy: 0.0267\n",
      "Epoch 4: val_loss improved from 4.99112 to 4.95422, saving model to Best_models/best_mobilenetv3large/\n",
      "56/56 [==============================] - 9s 168ms/step - loss: 5.1492 - accuracy: 0.0268 - val_loss: 4.9542 - val_accuracy: 0.0000e+00\n",
      "Epoch 5/20\n",
      "56/56 [==============================] - ETA: 0s - loss: 4.9516 - accuracy: 0.0329\n",
      "Epoch 5: val_loss improved from 4.95422 to 4.42436, saving model to Best_models/best_mobilenetv3large/\n",
      "56/56 [==============================] - 9s 164ms/step - loss: 4.9516 - accuracy: 0.0329 - val_loss: 4.4244 - val_accuracy: 0.0000e+00\n",
      "Epoch 6/20\n",
      "55/56 [============================>.] - ETA: 0s - loss: 4.7787 - accuracy: 0.0330\n",
      "Epoch 6: val_loss improved from 4.42436 to 4.24611, saving model to Best_models/best_mobilenetv3large/\n",
      "56/56 [==============================] - 9s 168ms/step - loss: 4.7774 - accuracy: 0.0329 - val_loss: 4.2461 - val_accuracy: 0.0000e+00\n",
      "Epoch 7/20\n",
      "56/56 [==============================] - ETA: 0s - loss: 4.6074 - accuracy: 0.0368\n",
      "Epoch 7: val_loss improved from 4.24611 to 4.15616, saving model to Best_models/best_mobilenetv3large/\n",
      "56/56 [==============================] - 10s 185ms/step - loss: 4.6074 - accuracy: 0.0368 - val_loss: 4.1562 - val_accuracy: 0.0000e+00\n",
      "Epoch 8/20\n",
      "55/56 [============================>.] - ETA: 0s - loss: 4.4428 - accuracy: 0.0466\n",
      "Epoch 8: val_loss improved from 4.15616 to 4.01988, saving model to Best_models/best_mobilenetv3large/\n",
      "56/56 [==============================] - 11s 196ms/step - loss: 4.4422 - accuracy: 0.0469 - val_loss: 4.0199 - val_accuracy: 0.0977\n",
      "Epoch 9/20\n",
      "55/56 [============================>.] - ETA: 0s - loss: 4.2827 - accuracy: 0.0517\n",
      "Epoch 9: val_loss improved from 4.01988 to 3.76138, saving model to Best_models/best_mobilenetv3large/\n",
      "56/56 [==============================] - 9s 166ms/step - loss: 4.2854 - accuracy: 0.0519 - val_loss: 3.7614 - val_accuracy: 0.0000e+00\n",
      "Epoch 10/20\n",
      "54/56 [===========================>..] - ETA: 0s - loss: 4.1989 - accuracy: 0.0544\n",
      "Epoch 10: val_loss did not improve from 3.76138\n",
      "56/56 [==============================] - 2s 28ms/step - loss: 4.1912 - accuracy: 0.0552 - val_loss: 3.8364 - val_accuracy: 0.0000e+00\n",
      "Epoch 11/20\n",
      " 4/56 [=>............................] - ETA: 2s - loss: 4.1198 - accuracy: 0.0594\n",
      "Epoch 11: val_loss did not improve from 3.76138\n",
      "56/56 [==============================] - 1s 12ms/step - loss: 4.1198 - accuracy: 0.0594 - val_loss: 3.7793 - val_accuracy: 0.0000e+00\n"
     ]
    }
   ],
   "source": [
    "model1.compile(loss='categorical_crossentropy',\n",
    "                           optimizer=Adam(),\n",
    "                           metrics=['accuracy'])\n",
    "\n",
    "checkpointer = ModelCheckpoint(filepath='Best_models/best_mobilenetv3large/', verbose=1, save_best_only=True)\n",
    "\n",
    "history_eff_b0 = model1.fit(train_dataset,\n",
    "                                        validation_data=validation_dataset,\n",
    "                            steps_per_epoch=int(0.1*len(train_dataset)),\n",
    "                            validation_steps=int(0.1*len(validation_dataset)),\n",
    "                                        epochs=20,\n",
    "                                        verbose=1,\n",
    "                                        callbacks=[checkpointer]) "
   ],
   "metadata": {
    "collapsed": false,
    "ExecuteTime": {
     "end_time": "2024-03-23T14:53:45.764467374Z",
     "start_time": "2024-03-23T14:52:15.883122631Z"
    }
   },
   "id": "d36b50212b34becf",
   "execution_count": 9
  },
  {
   "cell_type": "code",
   "outputs": [],
   "source": [
    "\n",
    "for layer in base_model.layers[-100:]:\n",
    "    layer.trainable = True\n"
   ],
   "metadata": {
    "collapsed": false,
    "ExecuteTime": {
     "end_time": "2024-03-23T14:53:45.770070087Z",
     "start_time": "2024-03-23T14:53:45.765905162Z"
    }
   },
   "id": "b18fc932dbae1cc2",
   "execution_count": 10
  },
  {
   "cell_type": "code",
   "outputs": [
    {
     "name": "stdout",
     "output_type": "stream",
     "text": [
      "input_1 False\n",
      "rescaling False\n",
      "Conv False\n",
      "Conv/BatchNorm False\n",
      "tf.math.add False\n",
      "re_lu False\n",
      "tf.math.multiply False\n",
      "multiply False\n",
      "expanded_conv/depthwise False\n",
      "expanded_conv/depthwise/BatchNorm False\n",
      "re_lu_1 False\n",
      "expanded_conv/project False\n",
      "expanded_conv/project/BatchNorm False\n",
      "expanded_conv/Add False\n",
      "expanded_conv_1/expand False\n",
      "expanded_conv_1/expand/BatchNorm False\n",
      "re_lu_2 False\n",
      "expanded_conv_1/depthwise/pad False\n",
      "expanded_conv_1/depthwise False\n",
      "expanded_conv_1/depthwise/BatchNorm False\n",
      "re_lu_3 False\n",
      "expanded_conv_1/project False\n",
      "expanded_conv_1/project/BatchNorm False\n",
      "expanded_conv_2/expand False\n",
      "expanded_conv_2/expand/BatchNorm False\n",
      "re_lu_4 False\n",
      "expanded_conv_2/depthwise False\n",
      "expanded_conv_2/depthwise/BatchNorm False\n",
      "re_lu_5 False\n",
      "expanded_conv_2/project False\n",
      "expanded_conv_2/project/BatchNorm False\n",
      "expanded_conv_2/Add False\n",
      "expanded_conv_3/expand False\n",
      "expanded_conv_3/expand/BatchNorm False\n",
      "re_lu_6 False\n",
      "expanded_conv_3/depthwise/pad False\n",
      "expanded_conv_3/depthwise False\n",
      "expanded_conv_3/depthwise/BatchNorm False\n",
      "re_lu_7 False\n",
      "expanded_conv_3/squeeze_excite/AvgPool False\n",
      "expanded_conv_3/squeeze_excite/Conv False\n",
      "expanded_conv_3/squeeze_excite/Relu False\n",
      "expanded_conv_3/squeeze_excite/Conv_1 False\n",
      "tf.math.add_1 False\n",
      "re_lu_8 False\n",
      "tf.math.multiply_1 False\n",
      "expanded_conv_3/squeeze_excite/Mul False\n",
      "expanded_conv_3/project False\n",
      "expanded_conv_3/project/BatchNorm False\n",
      "expanded_conv_4/expand False\n",
      "expanded_conv_4/expand/BatchNorm False\n",
      "re_lu_9 False\n",
      "expanded_conv_4/depthwise False\n",
      "expanded_conv_4/depthwise/BatchNorm False\n",
      "re_lu_10 False\n",
      "expanded_conv_4/squeeze_excite/AvgPool False\n",
      "expanded_conv_4/squeeze_excite/Conv False\n",
      "expanded_conv_4/squeeze_excite/Relu False\n",
      "expanded_conv_4/squeeze_excite/Conv_1 False\n",
      "tf.math.add_2 False\n",
      "re_lu_11 False\n",
      "tf.math.multiply_2 False\n",
      "expanded_conv_4/squeeze_excite/Mul False\n",
      "expanded_conv_4/project False\n",
      "expanded_conv_4/project/BatchNorm False\n",
      "expanded_conv_4/Add False\n",
      "expanded_conv_5/expand False\n",
      "expanded_conv_5/expand/BatchNorm False\n",
      "re_lu_12 False\n",
      "expanded_conv_5/depthwise False\n",
      "expanded_conv_5/depthwise/BatchNorm False\n",
      "re_lu_13 False\n",
      "expanded_conv_5/squeeze_excite/AvgPool False\n",
      "expanded_conv_5/squeeze_excite/Conv False\n",
      "expanded_conv_5/squeeze_excite/Relu False\n",
      "expanded_conv_5/squeeze_excite/Conv_1 False\n",
      "tf.math.add_3 False\n",
      "re_lu_14 False\n",
      "tf.math.multiply_3 False\n",
      "expanded_conv_5/squeeze_excite/Mul False\n",
      "expanded_conv_5/project False\n",
      "expanded_conv_5/project/BatchNorm False\n",
      "expanded_conv_5/Add False\n",
      "expanded_conv_6/expand False\n",
      "expanded_conv_6/expand/BatchNorm False\n",
      "tf.math.add_4 False\n",
      "re_lu_15 False\n",
      "tf.math.multiply_4 False\n",
      "multiply_1 False\n",
      "expanded_conv_6/depthwise/pad False\n",
      "expanded_conv_6/depthwise False\n",
      "expanded_conv_6/depthwise/BatchNorm False\n",
      "tf.math.add_5 False\n",
      "re_lu_16 False\n",
      "tf.math.multiply_5 False\n",
      "multiply_2 False\n",
      "expanded_conv_6/project False\n",
      "expanded_conv_6/project/BatchNorm False\n",
      "expanded_conv_7/expand False\n",
      "expanded_conv_7/expand/BatchNorm False\n",
      "tf.math.add_6 False\n",
      "re_lu_17 False\n",
      "tf.math.multiply_6 False\n",
      "multiply_3 False\n",
      "expanded_conv_7/depthwise False\n",
      "expanded_conv_7/depthwise/BatchNorm False\n",
      "tf.math.add_7 False\n",
      "re_lu_18 False\n",
      "tf.math.multiply_7 False\n",
      "multiply_4 False\n",
      "expanded_conv_7/project False\n",
      "expanded_conv_7/project/BatchNorm False\n",
      "expanded_conv_7/Add False\n",
      "expanded_conv_8/expand False\n",
      "expanded_conv_8/expand/BatchNorm False\n",
      "tf.math.add_8 False\n",
      "re_lu_19 False\n",
      "tf.math.multiply_8 False\n",
      "multiply_5 False\n",
      "expanded_conv_8/depthwise False\n",
      "expanded_conv_8/depthwise/BatchNorm False\n",
      "tf.math.add_9 False\n",
      "re_lu_20 False\n",
      "tf.math.multiply_9 False\n",
      "multiply_6 False\n",
      "expanded_conv_8/project False\n",
      "expanded_conv_8/project/BatchNorm False\n",
      "expanded_conv_8/Add False\n",
      "expanded_conv_9/expand False\n",
      "expanded_conv_9/expand/BatchNorm False\n",
      "tf.math.add_10 False\n",
      "re_lu_21 False\n",
      "tf.math.multiply_10 False\n",
      "multiply_7 False\n",
      "expanded_conv_9/depthwise False\n",
      "expanded_conv_9/depthwise/BatchNorm False\n",
      "tf.math.add_11 False\n",
      "re_lu_22 False\n",
      "tf.math.multiply_11 False\n",
      "multiply_8 False\n",
      "expanded_conv_9/project False\n",
      "expanded_conv_9/project/BatchNorm False\n",
      "expanded_conv_9/Add False\n",
      "expanded_conv_10/expand False\n",
      "expanded_conv_10/expand/BatchNorm False\n",
      "tf.math.add_12 False\n",
      "re_lu_23 False\n",
      "tf.math.multiply_12 False\n",
      "multiply_9 False\n",
      "expanded_conv_10/depthwise False\n",
      "expanded_conv_10/depthwise/BatchNorm False\n",
      "tf.math.add_13 False\n",
      "re_lu_24 False\n",
      "tf.math.multiply_13 False\n",
      "multiply_10 False\n",
      "expanded_conv_10/squeeze_excite/AvgPool False\n",
      "expanded_conv_10/squeeze_excite/Conv False\n",
      "expanded_conv_10/squeeze_excite/Relu False\n",
      "expanded_conv_10/squeeze_excite/Conv_1 False\n",
      "tf.math.add_14 False\n",
      "re_lu_25 False\n",
      "tf.math.multiply_14 False\n",
      "expanded_conv_10/squeeze_excite/Mul False\n",
      "expanded_conv_10/project True\n",
      "expanded_conv_10/project/BatchNorm True\n",
      "expanded_conv_11/expand True\n",
      "expanded_conv_11/expand/BatchNorm True\n",
      "tf.math.add_15 True\n",
      "re_lu_26 True\n",
      "tf.math.multiply_15 True\n",
      "multiply_11 True\n",
      "expanded_conv_11/depthwise True\n",
      "expanded_conv_11/depthwise/BatchNorm True\n",
      "tf.math.add_16 True\n",
      "re_lu_27 True\n",
      "tf.math.multiply_16 True\n",
      "multiply_12 True\n",
      "expanded_conv_11/squeeze_excite/AvgPool True\n",
      "expanded_conv_11/squeeze_excite/Conv True\n",
      "expanded_conv_11/squeeze_excite/Relu True\n",
      "expanded_conv_11/squeeze_excite/Conv_1 True\n",
      "tf.math.add_17 True\n",
      "re_lu_28 True\n",
      "tf.math.multiply_17 True\n",
      "expanded_conv_11/squeeze_excite/Mul True\n",
      "expanded_conv_11/project True\n",
      "expanded_conv_11/project/BatchNorm True\n",
      "expanded_conv_11/Add True\n",
      "expanded_conv_12/expand True\n",
      "expanded_conv_12/expand/BatchNorm True\n",
      "tf.math.add_18 True\n",
      "re_lu_29 True\n",
      "tf.math.multiply_18 True\n",
      "multiply_13 True\n",
      "expanded_conv_12/depthwise/pad True\n",
      "expanded_conv_12/depthwise True\n",
      "expanded_conv_12/depthwise/BatchNorm True\n",
      "tf.math.add_19 True\n",
      "re_lu_30 True\n",
      "tf.math.multiply_19 True\n",
      "multiply_14 True\n",
      "expanded_conv_12/squeeze_excite/AvgPool True\n",
      "expanded_conv_12/squeeze_excite/Conv True\n",
      "expanded_conv_12/squeeze_excite/Relu True\n",
      "expanded_conv_12/squeeze_excite/Conv_1 True\n",
      "tf.math.add_20 True\n",
      "re_lu_31 True\n",
      "tf.math.multiply_20 True\n",
      "expanded_conv_12/squeeze_excite/Mul True\n",
      "expanded_conv_12/project True\n",
      "expanded_conv_12/project/BatchNorm True\n",
      "expanded_conv_13/expand True\n",
      "expanded_conv_13/expand/BatchNorm True\n",
      "tf.math.add_21 True\n",
      "re_lu_32 True\n",
      "tf.math.multiply_21 True\n",
      "multiply_15 True\n",
      "expanded_conv_13/depthwise True\n",
      "expanded_conv_13/depthwise/BatchNorm True\n",
      "tf.math.add_22 True\n",
      "re_lu_33 True\n",
      "tf.math.multiply_22 True\n",
      "multiply_16 True\n",
      "expanded_conv_13/squeeze_excite/AvgPool True\n",
      "expanded_conv_13/squeeze_excite/Conv True\n",
      "expanded_conv_13/squeeze_excite/Relu True\n",
      "expanded_conv_13/squeeze_excite/Conv_1 True\n",
      "tf.math.add_23 True\n",
      "re_lu_34 True\n",
      "tf.math.multiply_23 True\n",
      "expanded_conv_13/squeeze_excite/Mul True\n",
      "expanded_conv_13/project True\n",
      "expanded_conv_13/project/BatchNorm True\n",
      "expanded_conv_13/Add True\n",
      "expanded_conv_14/expand True\n",
      "expanded_conv_14/expand/BatchNorm True\n",
      "tf.math.add_24 True\n",
      "re_lu_35 True\n",
      "tf.math.multiply_24 True\n",
      "multiply_17 True\n",
      "expanded_conv_14/depthwise True\n",
      "expanded_conv_14/depthwise/BatchNorm True\n",
      "tf.math.add_25 True\n",
      "re_lu_36 True\n",
      "tf.math.multiply_25 True\n",
      "multiply_18 True\n",
      "expanded_conv_14/squeeze_excite/AvgPool True\n",
      "expanded_conv_14/squeeze_excite/Conv True\n",
      "expanded_conv_14/squeeze_excite/Relu True\n",
      "expanded_conv_14/squeeze_excite/Conv_1 True\n",
      "tf.math.add_26 True\n",
      "re_lu_37 True\n",
      "tf.math.multiply_26 True\n",
      "expanded_conv_14/squeeze_excite/Mul True\n",
      "expanded_conv_14/project True\n",
      "expanded_conv_14/project/BatchNorm True\n",
      "expanded_conv_14/Add True\n",
      "Conv_1 True\n",
      "Conv_1/BatchNorm True\n",
      "tf.math.add_27 True\n",
      "re_lu_38 True\n",
      "tf.math.multiply_27 True\n",
      "multiply_19 True\n"
     ]
    }
   ],
   "source": [
    "for layer in base_model.layers:\n",
    "    print(layer.name, layer.trainable)"
   ],
   "metadata": {
    "collapsed": false,
    "ExecuteTime": {
     "end_time": "2024-03-23T14:53:45.778384400Z",
     "start_time": "2024-03-23T14:53:45.767531051Z"
    }
   },
   "id": "396cc7ef6dbc7bae",
   "execution_count": 11
  },
  {
   "cell_type": "code",
   "outputs": [
    {
     "name": "stdout",
     "output_type": "stream",
     "text": [
      "Epoch 21/40\n",
      "55/56 [============================>.] - ETA: 0s - loss: 4.0933 - accuracy: 0.0716\n",
      "Epoch 21: val_loss improved from 3.76138 to 3.26305, saving model to Best_models/best_mobilenetv3large/\n",
      "56/56 [==============================] - 13s 177ms/step - loss: 4.0926 - accuracy: 0.0709 - val_loss: 3.2631 - val_accuracy: 0.0026\n",
      "Epoch 22/40\n",
      "55/56 [============================>.] - ETA: 0s - loss: 3.9462 - accuracy: 0.0767\n",
      "Epoch 22: val_loss improved from 3.26305 to 3.02519, saving model to Best_models/best_mobilenetv3large/\n",
      "56/56 [==============================] - 9s 163ms/step - loss: 3.9424 - accuracy: 0.0776 - val_loss: 3.0252 - val_accuracy: 0.2708\n",
      "Epoch 23/40\n",
      "54/56 [===========================>..] - ETA: 0s - loss: 3.7377 - accuracy: 0.1065\n",
      "Epoch 23: val_loss improved from 3.02519 to 2.93483, saving model to Best_models/best_mobilenetv3large/\n",
      "56/56 [==============================] - 9s 165ms/step - loss: 3.7347 - accuracy: 0.1083 - val_loss: 2.9348 - val_accuracy: 0.2721\n",
      "Epoch 24/40\n",
      "56/56 [==============================] - ETA: 0s - loss: 3.7445 - accuracy: 0.0982\n",
      "Epoch 24: val_loss improved from 2.93483 to 2.80717, saving model to Best_models/best_mobilenetv3large/\n",
      "56/56 [==============================] - 9s 164ms/step - loss: 3.7445 - accuracy: 0.0982 - val_loss: 2.8072 - val_accuracy: 0.1497\n",
      "Epoch 25/40\n",
      "55/56 [============================>.] - ETA: 0s - loss: 3.6369 - accuracy: 0.1000\n",
      "Epoch 25: val_loss did not improve from 2.80717\n",
      "56/56 [==============================] - 2s 28ms/step - loss: 3.6406 - accuracy: 0.0993 - val_loss: 2.9350 - val_accuracy: 0.1615\n",
      "Epoch 26/40\n",
      "55/56 [============================>.] - ETA: 0s - loss: 3.5495 - accuracy: 0.1187\n",
      "Epoch 26: val_loss improved from 2.80717 to 2.42150, saving model to Best_models/best_mobilenetv3large/\n",
      "56/56 [==============================] - 9s 165ms/step - loss: 3.5467 - accuracy: 0.1177 - val_loss: 2.4215 - val_accuracy: 0.5260\n",
      "Epoch 27/40\n",
      "56/56 [==============================] - ETA: 0s - loss: 3.4199 - accuracy: 0.1551\n",
      "Epoch 27: val_loss did not improve from 2.42150\n",
      "56/56 [==============================] - 2s 28ms/step - loss: 3.4199 - accuracy: 0.1551 - val_loss: 2.5084 - val_accuracy: 0.2852\n",
      "Epoch 28/40\n",
      "55/56 [============================>.] - ETA: 0s - loss: 3.3986 - accuracy: 0.1216\n",
      "Epoch 28: val_loss improved from 2.42150 to 2.18635, saving model to Best_models/best_mobilenetv3large/\n",
      "56/56 [==============================] - 9s 164ms/step - loss: 3.4019 - accuracy: 0.1211 - val_loss: 2.1864 - val_accuracy: 0.5234\n",
      "Epoch 29/40\n",
      "54/56 [===========================>..] - ETA: 0s - loss: 3.3472 - accuracy: 0.1372\n",
      "Epoch 29: val_loss did not improve from 2.18635\n",
      "56/56 [==============================] - 2s 28ms/step - loss: 3.3457 - accuracy: 0.1367 - val_loss: 2.4924 - val_accuracy: 0.2721\n",
      "Epoch 30/40\n",
      "54/56 [===========================>..] - ETA: 0s - loss: 3.2402 - accuracy: 0.1568\n",
      "Epoch 30: val_loss did not improve from 2.18635\n",
      "56/56 [==============================] - 2s 28ms/step - loss: 3.2322 - accuracy: 0.1562 - val_loss: 2.4058 - val_accuracy: 0.2760\n",
      "Epoch 31/40\n",
      " 1/56 [..............................] - ETA: 1s - loss: 3.9387 - accuracy: 0.0938\n",
      "Epoch 31: val_loss did not improve from 2.18635\n",
      "56/56 [==============================] - 1s 10ms/step - loss: 3.4304 - accuracy: 0.1584 - val_loss: 2.3925 - val_accuracy: 0.2969\n"
     ]
    },
    {
     "data": {
      "text/plain": "<keras.src.callbacks.History at 0x79e2d8577610>"
     },
     "execution_count": 12,
     "metadata": {},
     "output_type": "execute_result"
    }
   ],
   "source": [
    "model1.compile(loss='categorical_crossentropy',\n",
    "                           optimizer=Adam(),\n",
    "                           metrics=['accuracy'])\n",
    "start_epoch = 20\n",
    "\n",
    "model1.fit(train_dataset,\n",
    "           steps_per_epoch=int(0.1*len(train_dataset)),\n",
    "                            validation_steps=int(0.1*len(validation_dataset)),\n",
    "                                        validation_data=validation_dataset,\n",
    "                                        epochs=start_epoch+20,\n",
    "                                        initial_epoch=start_epoch, \n",
    "                                        verbose=1,\n",
    "                                        callbacks=[checkpointer]) "
   ],
   "metadata": {
    "collapsed": false,
    "ExecuteTime": {
     "end_time": "2024-03-23T14:54:50.458590036Z",
     "start_time": "2024-03-23T14:53:45.776832509Z"
    }
   },
   "id": "203e49fb2dead93f",
   "execution_count": 12
  },
  {
   "cell_type": "code",
   "outputs": [
    {
     "data": {
      "text/plain": "263"
     },
     "execution_count": 13,
     "metadata": {},
     "output_type": "execute_result"
    }
   ],
   "source": [
    "len(base_model.layers)"
   ],
   "metadata": {
    "collapsed": false,
    "ExecuteTime": {
     "end_time": "2024-03-23T14:54:50.463279814Z",
     "start_time": "2024-03-23T14:54:50.460887562Z"
    }
   },
   "id": "6ecf65f6cb6daf4e",
   "execution_count": 13
  },
  {
   "cell_type": "code",
   "outputs": [],
   "source": [
    "\n",
    "for layer in base_model.layers[-150:]:\n",
    "    layer.trainable = True\n"
   ],
   "metadata": {
    "collapsed": false,
    "ExecuteTime": {
     "end_time": "2024-03-23T14:54:50.498511384Z",
     "start_time": "2024-03-23T14:54:50.463535742Z"
    }
   },
   "id": "c9c1648ec5fea6af",
   "execution_count": 14
  },
  {
   "cell_type": "code",
   "outputs": [
    {
     "name": "stdout",
     "output_type": "stream",
     "text": [
      "Epoch 41/60\n",
      "56/56 [==============================] - ETA: 0s - loss: 3.2646 - accuracy: 0.1507\n",
      "Epoch 41: val_loss improved from 2.18635 to 1.96187, saving model to Best_models/best_mobilenetv3large/\n",
      "56/56 [==============================] - 12s 165ms/step - loss: 3.2646 - accuracy: 0.1507 - val_loss: 1.9619 - val_accuracy: 0.3164\n",
      "Epoch 42/60\n",
      "54/56 [===========================>..] - ETA: 0s - loss: 3.1531 - accuracy: 0.1615\n",
      "Epoch 42: val_loss improved from 1.96187 to 1.89828, saving model to Best_models/best_mobilenetv3large/\n",
      "56/56 [==============================] - 9s 168ms/step - loss: 3.1608 - accuracy: 0.1590 - val_loss: 1.8983 - val_accuracy: 0.5195\n",
      "Epoch 43/60\n",
      "56/56 [==============================] - ETA: 0s - loss: 3.0728 - accuracy: 0.1819\n",
      "Epoch 43: val_loss did not improve from 1.89828\n",
      "56/56 [==============================] - 2s 28ms/step - loss: 3.0728 - accuracy: 0.1819 - val_loss: 2.2841 - val_accuracy: 0.2943\n",
      "Epoch 44/60\n",
      "55/56 [============================>.] - ETA: 0s - loss: 3.0642 - accuracy: 0.1864\n",
      "Epoch 44: val_loss did not improve from 1.89828\n",
      "56/56 [==============================] - 2s 28ms/step - loss: 3.0636 - accuracy: 0.1869 - val_loss: 2.0883 - val_accuracy: 0.2904\n",
      "Epoch 45/60\n",
      "55/56 [============================>.] - ETA: 0s - loss: 3.0054 - accuracy: 0.1881\n",
      "Epoch 45: val_loss did not improve from 1.89828\n",
      "56/56 [==============================] - 2s 27ms/step - loss: 3.0098 - accuracy: 0.1869 - val_loss: 2.0015 - val_accuracy: 0.4831\n",
      "Epoch 46/60\n",
      "55/56 [============================>.] - ETA: 0s - loss: 2.9872 - accuracy: 0.1943\n",
      "Epoch 46: val_loss improved from 1.89828 to 1.83108, saving model to Best_models/best_mobilenetv3large/\n",
      "56/56 [==============================] - 10s 174ms/step - loss: 2.9870 - accuracy: 0.1942 - val_loss: 1.8311 - val_accuracy: 0.6302\n",
      "Epoch 47/60\n",
      "55/56 [============================>.] - ETA: 0s - loss: 2.8909 - accuracy: 0.2233\n",
      "Epoch 47: val_loss did not improve from 1.83108\n",
      "56/56 [==============================] - 2s 29ms/step - loss: 2.8912 - accuracy: 0.2221 - val_loss: 2.0622 - val_accuracy: 0.2956\n",
      "Epoch 48/60\n",
      "55/56 [============================>.] - ETA: 0s - loss: 2.8661 - accuracy: 0.2199\n",
      "Epoch 48: val_loss did not improve from 1.83108\n",
      "56/56 [==============================] - 2s 27ms/step - loss: 2.8715 - accuracy: 0.2188 - val_loss: 1.9489 - val_accuracy: 0.4531\n",
      "Epoch 49/60\n",
      "55/56 [============================>.] - ETA: 0s - loss: 2.8305 - accuracy: 0.2148\n",
      "Epoch 49: val_loss did not improve from 1.83108\n",
      "56/56 [==============================] - 2s 28ms/step - loss: 2.8343 - accuracy: 0.2126 - val_loss: 2.0535 - val_accuracy: 0.2995\n",
      "Epoch 50/60\n",
      "55/56 [============================>.] - ETA: 0s - loss: 2.8459 - accuracy: 0.2210\n",
      "Epoch 50: val_loss did not improve from 1.83108\n",
      "56/56 [==============================] - 2s 28ms/step - loss: 2.8490 - accuracy: 0.2199 - val_loss: 1.9456 - val_accuracy: 0.2995\n",
      "Epoch 51/60\n",
      " 1/56 [..............................] - ETA: 1s - loss: 2.8539 - accuracy: 0.1875\n",
      "Epoch 51: val_loss did not improve from 1.83108\n",
      "56/56 [==============================] - 1s 10ms/step - loss: 2.7477 - accuracy: 0.1782 - val_loss: 1.9583 - val_accuracy: 0.2943\n"
     ]
    },
    {
     "data": {
      "text/plain": "<keras.src.callbacks.History at 0x79e06c3e48b0>"
     },
     "execution_count": 15,
     "metadata": {},
     "output_type": "execute_result"
    }
   ],
   "source": [
    "model1.compile(loss='categorical_crossentropy',\n",
    "                           optimizer=Adam(),\n",
    "                           metrics=['accuracy'])\n",
    "start_epoch = 40\n",
    "\n",
    "model1.fit(train_dataset,steps_per_epoch=int(0.1*len(train_dataset)),\n",
    "                            validation_steps=int(0.1*len(validation_dataset)),\n",
    "                                        \n",
    "                                        validation_data=validation_dataset,\n",
    "                                        \n",
    "                                        epochs=start_epoch+20,\n",
    "                                        initial_epoch=start_epoch, \n",
    "                                        verbose=1,\n",
    "                                        callbacks=[checkpointer]) "
   ],
   "metadata": {
    "collapsed": false,
    "ExecuteTime": {
     "end_time": "2024-03-23T14:55:32.785767577Z",
     "start_time": "2024-03-23T14:54:50.498575424Z"
    }
   },
   "id": "686cc96cfff8e778",
   "execution_count": 15
  },
  {
   "cell_type": "code",
   "outputs": [
    {
     "name": "stdout",
     "output_type": "stream",
     "text": [
      "Epoch 161/180\n",
      "562/564 [============================>.] - ETA: 0s - loss: 0.2833 - accuracy: 0.9126\n",
      "Epoch 161: val_loss did not improve from 0.33642\n",
      "564/564 [==============================] - 17s 25ms/step - loss: 0.2835 - accuracy: 0.9125 - val_loss: 0.3566 - val_accuracy: 0.9079\n",
      "Epoch 162/180\n",
      "562/564 [============================>.] - ETA: 0s - loss: 0.2855 - accuracy: 0.9099\n",
      "Epoch 162: val_loss did not improve from 0.33642\n",
      "564/564 [==============================] - 14s 25ms/step - loss: 0.2853 - accuracy: 0.9099 - val_loss: 0.3433 - val_accuracy: 0.9121\n",
      "Epoch 163/180\n",
      "562/564 [============================>.] - ETA: 0s - loss: 0.2801 - accuracy: 0.9115\n",
      "Epoch 163: val_loss did not improve from 0.33642\n",
      "564/564 [==============================] - 14s 25ms/step - loss: 0.2799 - accuracy: 0.9115 - val_loss: 0.3471 - val_accuracy: 0.9259\n",
      "Epoch 164/180\n",
      "562/564 [============================>.] - ETA: 0s - loss: 0.2805 - accuracy: 0.9105\n",
      "Epoch 164: val_loss did not improve from 0.33642\n",
      "564/564 [==============================] - 14s 25ms/step - loss: 0.2807 - accuracy: 0.9104 - val_loss: 0.3652 - val_accuracy: 0.9243\n",
      "Epoch 165/180\n",
      "562/564 [============================>.] - ETA: 0s - loss: 0.2855 - accuracy: 0.9092\n",
      "Epoch 165: val_loss did not improve from 0.33642\n",
      "564/564 [==============================] - 14s 25ms/step - loss: 0.2854 - accuracy: 0.9092 - val_loss: 0.3443 - val_accuracy: 0.9143\n",
      "Epoch 166/180\n",
      "562/564 [============================>.] - ETA: 0s - loss: 0.2839 - accuracy: 0.9118\n",
      "Epoch 166: val_loss did not improve from 0.33642\n",
      "564/564 [==============================] - 14s 26ms/step - loss: 0.2837 - accuracy: 0.9118 - val_loss: 0.3556 - val_accuracy: 0.9248\n",
      "Epoch 167/180\n",
      "561/564 [============================>.] - ETA: 0s - loss: 0.2784 - accuracy: 0.9113\n",
      "Epoch 167: val_loss did not improve from 0.33642\n",
      "564/564 [==============================] - 15s 27ms/step - loss: 0.2783 - accuracy: 0.9114 - val_loss: 0.3503 - val_accuracy: 0.9233\n",
      "Epoch 168/180\n",
      "561/564 [============================>.] - ETA: 0s - loss: 0.2745 - accuracy: 0.9135\n",
      "Epoch 168: val_loss did not improve from 0.33642\n",
      "564/564 [==============================] - 14s 25ms/step - loss: 0.2746 - accuracy: 0.9132 - val_loss: 0.3432 - val_accuracy: 0.9246\n",
      "Epoch 169/180\n",
      "172/564 [========>.....................] - ETA: 7s - loss: 0.2748 - accuracy: 0.9173"
     ]
    },
    {
     "ename": "KeyboardInterrupt",
     "evalue": "",
     "output_type": "error",
     "traceback": [
      "\u001B[0;31m---------------------------------------------------------------------------\u001B[0m",
      "\u001B[0;31mKeyboardInterrupt\u001B[0m                         Traceback (most recent call last)",
      "Cell \u001B[0;32mIn[23], line 6\u001B[0m\n\u001B[1;32m      1\u001B[0m model1\u001B[38;5;241m.\u001B[39mcompile(loss\u001B[38;5;241m=\u001B[39m\u001B[38;5;124m'\u001B[39m\u001B[38;5;124mcategorical_crossentropy\u001B[39m\u001B[38;5;124m'\u001B[39m,\n\u001B[1;32m      2\u001B[0m                            optimizer\u001B[38;5;241m=\u001B[39mAdam(learning_rate\u001B[38;5;241m=\u001B[39m\u001B[38;5;241m0.0001\u001B[39m),\n\u001B[1;32m      3\u001B[0m                            metrics\u001B[38;5;241m=\u001B[39m[\u001B[38;5;124m'\u001B[39m\u001B[38;5;124maccuracy\u001B[39m\u001B[38;5;124m'\u001B[39m])\n\u001B[1;32m      4\u001B[0m start_epoch \u001B[38;5;241m=\u001B[39m \u001B[38;5;241m160\u001B[39m\n\u001B[0;32m----> 6\u001B[0m \u001B[43mmodel1\u001B[49m\u001B[38;5;241;43m.\u001B[39;49m\u001B[43mfit\u001B[49m\u001B[43m(\u001B[49m\u001B[43mtrain_dataset\u001B[49m\u001B[43m,\u001B[49m\n\u001B[1;32m      7\u001B[0m \u001B[43m                                        \u001B[49m\u001B[43mvalidation_data\u001B[49m\u001B[38;5;241;43m=\u001B[39;49m\u001B[43mvalidation_dataset\u001B[49m\u001B[43m,\u001B[49m\n\u001B[1;32m      8\u001B[0m \u001B[43m                                       \u001B[49m\n\u001B[1;32m      9\u001B[0m \u001B[43m                                        \u001B[49m\u001B[43mepochs\u001B[49m\u001B[38;5;241;43m=\u001B[39;49m\u001B[43mstart_epoch\u001B[49m\u001B[38;5;241;43m+\u001B[39;49m\u001B[38;5;241;43m20\u001B[39;49m\u001B[43m,\u001B[49m\n\u001B[1;32m     10\u001B[0m \u001B[43m                                        \u001B[49m\u001B[43minitial_epoch\u001B[49m\u001B[38;5;241;43m=\u001B[39;49m\u001B[43mstart_epoch\u001B[49m\u001B[43m,\u001B[49m\u001B[43m \u001B[49m\n\u001B[1;32m     11\u001B[0m \u001B[43m                                        \u001B[49m\u001B[43mverbose\u001B[49m\u001B[38;5;241;43m=\u001B[39;49m\u001B[38;5;241;43m1\u001B[39;49m\u001B[43m,\u001B[49m\n\u001B[1;32m     12\u001B[0m \u001B[43m                                        \u001B[49m\u001B[43mcallbacks\u001B[49m\u001B[38;5;241;43m=\u001B[39;49m\u001B[43m[\u001B[49m\u001B[43mcheckpointer\u001B[49m\u001B[43m]\u001B[49m\u001B[43m)\u001B[49m \n",
      "File \u001B[0;32m~/PycharmProjects/BIRD_CLASSIFICATION/.venv/lib/python3.10/site-packages/keras/src/utils/traceback_utils.py:65\u001B[0m, in \u001B[0;36mfilter_traceback.<locals>.error_handler\u001B[0;34m(*args, **kwargs)\u001B[0m\n\u001B[1;32m     63\u001B[0m filtered_tb \u001B[38;5;241m=\u001B[39m \u001B[38;5;28;01mNone\u001B[39;00m\n\u001B[1;32m     64\u001B[0m \u001B[38;5;28;01mtry\u001B[39;00m:\n\u001B[0;32m---> 65\u001B[0m     \u001B[38;5;28;01mreturn\u001B[39;00m \u001B[43mfn\u001B[49m\u001B[43m(\u001B[49m\u001B[38;5;241;43m*\u001B[39;49m\u001B[43margs\u001B[49m\u001B[43m,\u001B[49m\u001B[43m \u001B[49m\u001B[38;5;241;43m*\u001B[39;49m\u001B[38;5;241;43m*\u001B[39;49m\u001B[43mkwargs\u001B[49m\u001B[43m)\u001B[49m\n\u001B[1;32m     66\u001B[0m \u001B[38;5;28;01mexcept\u001B[39;00m \u001B[38;5;167;01mException\u001B[39;00m \u001B[38;5;28;01mas\u001B[39;00m e:\n\u001B[1;32m     67\u001B[0m     filtered_tb \u001B[38;5;241m=\u001B[39m _process_traceback_frames(e\u001B[38;5;241m.\u001B[39m__traceback__)\n",
      "File \u001B[0;32m~/PycharmProjects/BIRD_CLASSIFICATION/.venv/lib/python3.10/site-packages/keras/src/engine/training.py:1783\u001B[0m, in \u001B[0;36mModel.fit\u001B[0;34m(self, x, y, batch_size, epochs, verbose, callbacks, validation_split, validation_data, shuffle, class_weight, sample_weight, initial_epoch, steps_per_epoch, validation_steps, validation_batch_size, validation_freq, max_queue_size, workers, use_multiprocessing)\u001B[0m\n\u001B[1;32m   1775\u001B[0m \u001B[38;5;28;01mwith\u001B[39;00m tf\u001B[38;5;241m.\u001B[39mprofiler\u001B[38;5;241m.\u001B[39mexperimental\u001B[38;5;241m.\u001B[39mTrace(\n\u001B[1;32m   1776\u001B[0m     \u001B[38;5;124m\"\u001B[39m\u001B[38;5;124mtrain\u001B[39m\u001B[38;5;124m\"\u001B[39m,\n\u001B[1;32m   1777\u001B[0m     epoch_num\u001B[38;5;241m=\u001B[39mepoch,\n\u001B[0;32m   (...)\u001B[0m\n\u001B[1;32m   1780\u001B[0m     _r\u001B[38;5;241m=\u001B[39m\u001B[38;5;241m1\u001B[39m,\n\u001B[1;32m   1781\u001B[0m ):\n\u001B[1;32m   1782\u001B[0m     callbacks\u001B[38;5;241m.\u001B[39mon_train_batch_begin(step)\n\u001B[0;32m-> 1783\u001B[0m     tmp_logs \u001B[38;5;241m=\u001B[39m \u001B[38;5;28;43mself\u001B[39;49m\u001B[38;5;241;43m.\u001B[39;49m\u001B[43mtrain_function\u001B[49m\u001B[43m(\u001B[49m\u001B[43miterator\u001B[49m\u001B[43m)\u001B[49m\n\u001B[1;32m   1784\u001B[0m     \u001B[38;5;28;01mif\u001B[39;00m data_handler\u001B[38;5;241m.\u001B[39mshould_sync:\n\u001B[1;32m   1785\u001B[0m         context\u001B[38;5;241m.\u001B[39masync_wait()\n",
      "File \u001B[0;32m~/PycharmProjects/BIRD_CLASSIFICATION/.venv/lib/python3.10/site-packages/tensorflow/python/util/traceback_utils.py:150\u001B[0m, in \u001B[0;36mfilter_traceback.<locals>.error_handler\u001B[0;34m(*args, **kwargs)\u001B[0m\n\u001B[1;32m    148\u001B[0m filtered_tb \u001B[38;5;241m=\u001B[39m \u001B[38;5;28;01mNone\u001B[39;00m\n\u001B[1;32m    149\u001B[0m \u001B[38;5;28;01mtry\u001B[39;00m:\n\u001B[0;32m--> 150\u001B[0m   \u001B[38;5;28;01mreturn\u001B[39;00m \u001B[43mfn\u001B[49m\u001B[43m(\u001B[49m\u001B[38;5;241;43m*\u001B[39;49m\u001B[43margs\u001B[49m\u001B[43m,\u001B[49m\u001B[43m \u001B[49m\u001B[38;5;241;43m*\u001B[39;49m\u001B[38;5;241;43m*\u001B[39;49m\u001B[43mkwargs\u001B[49m\u001B[43m)\u001B[49m\n\u001B[1;32m    151\u001B[0m \u001B[38;5;28;01mexcept\u001B[39;00m \u001B[38;5;167;01mException\u001B[39;00m \u001B[38;5;28;01mas\u001B[39;00m e:\n\u001B[1;32m    152\u001B[0m   filtered_tb \u001B[38;5;241m=\u001B[39m _process_traceback_frames(e\u001B[38;5;241m.\u001B[39m__traceback__)\n",
      "File \u001B[0;32m~/PycharmProjects/BIRD_CLASSIFICATION/.venv/lib/python3.10/site-packages/tensorflow/python/eager/polymorphic_function/polymorphic_function.py:831\u001B[0m, in \u001B[0;36mFunction.__call__\u001B[0;34m(self, *args, **kwds)\u001B[0m\n\u001B[1;32m    828\u001B[0m compiler \u001B[38;5;241m=\u001B[39m \u001B[38;5;124m\"\u001B[39m\u001B[38;5;124mxla\u001B[39m\u001B[38;5;124m\"\u001B[39m \u001B[38;5;28;01mif\u001B[39;00m \u001B[38;5;28mself\u001B[39m\u001B[38;5;241m.\u001B[39m_jit_compile \u001B[38;5;28;01melse\u001B[39;00m \u001B[38;5;124m\"\u001B[39m\u001B[38;5;124mnonXla\u001B[39m\u001B[38;5;124m\"\u001B[39m\n\u001B[1;32m    830\u001B[0m \u001B[38;5;28;01mwith\u001B[39;00m OptionalXlaContext(\u001B[38;5;28mself\u001B[39m\u001B[38;5;241m.\u001B[39m_jit_compile):\n\u001B[0;32m--> 831\u001B[0m   result \u001B[38;5;241m=\u001B[39m \u001B[38;5;28;43mself\u001B[39;49m\u001B[38;5;241;43m.\u001B[39;49m\u001B[43m_call\u001B[49m\u001B[43m(\u001B[49m\u001B[38;5;241;43m*\u001B[39;49m\u001B[43margs\u001B[49m\u001B[43m,\u001B[49m\u001B[43m \u001B[49m\u001B[38;5;241;43m*\u001B[39;49m\u001B[38;5;241;43m*\u001B[39;49m\u001B[43mkwds\u001B[49m\u001B[43m)\u001B[49m\n\u001B[1;32m    833\u001B[0m new_tracing_count \u001B[38;5;241m=\u001B[39m \u001B[38;5;28mself\u001B[39m\u001B[38;5;241m.\u001B[39mexperimental_get_tracing_count()\n\u001B[1;32m    834\u001B[0m without_tracing \u001B[38;5;241m=\u001B[39m (tracing_count \u001B[38;5;241m==\u001B[39m new_tracing_count)\n",
      "File \u001B[0;32m~/PycharmProjects/BIRD_CLASSIFICATION/.venv/lib/python3.10/site-packages/tensorflow/python/eager/polymorphic_function/polymorphic_function.py:867\u001B[0m, in \u001B[0;36mFunction._call\u001B[0;34m(self, *args, **kwds)\u001B[0m\n\u001B[1;32m    864\u001B[0m   \u001B[38;5;28mself\u001B[39m\u001B[38;5;241m.\u001B[39m_lock\u001B[38;5;241m.\u001B[39mrelease()\n\u001B[1;32m    865\u001B[0m   \u001B[38;5;66;03m# In this case we have created variables on the first call, so we run the\u001B[39;00m\n\u001B[1;32m    866\u001B[0m   \u001B[38;5;66;03m# defunned version which is guaranteed to never create variables.\u001B[39;00m\n\u001B[0;32m--> 867\u001B[0m   \u001B[38;5;28;01mreturn\u001B[39;00m \u001B[43mtracing_compilation\u001B[49m\u001B[38;5;241;43m.\u001B[39;49m\u001B[43mcall_function\u001B[49m\u001B[43m(\u001B[49m\n\u001B[1;32m    868\u001B[0m \u001B[43m      \u001B[49m\u001B[43margs\u001B[49m\u001B[43m,\u001B[49m\u001B[43m \u001B[49m\u001B[43mkwds\u001B[49m\u001B[43m,\u001B[49m\u001B[43m \u001B[49m\u001B[38;5;28;43mself\u001B[39;49m\u001B[38;5;241;43m.\u001B[39;49m\u001B[43m_no_variable_creation_config\u001B[49m\n\u001B[1;32m    869\u001B[0m \u001B[43m  \u001B[49m\u001B[43m)\u001B[49m\n\u001B[1;32m    870\u001B[0m \u001B[38;5;28;01melif\u001B[39;00m \u001B[38;5;28mself\u001B[39m\u001B[38;5;241m.\u001B[39m_variable_creation_config \u001B[38;5;129;01mis\u001B[39;00m \u001B[38;5;129;01mnot\u001B[39;00m \u001B[38;5;28;01mNone\u001B[39;00m:\n\u001B[1;32m    871\u001B[0m   \u001B[38;5;66;03m# Release the lock early so that multiple threads can perform the call\u001B[39;00m\n\u001B[1;32m    872\u001B[0m   \u001B[38;5;66;03m# in parallel.\u001B[39;00m\n\u001B[1;32m    873\u001B[0m   \u001B[38;5;28mself\u001B[39m\u001B[38;5;241m.\u001B[39m_lock\u001B[38;5;241m.\u001B[39mrelease()\n",
      "File \u001B[0;32m~/PycharmProjects/BIRD_CLASSIFICATION/.venv/lib/python3.10/site-packages/tensorflow/python/eager/polymorphic_function/tracing_compilation.py:139\u001B[0m, in \u001B[0;36mcall_function\u001B[0;34m(args, kwargs, tracing_options)\u001B[0m\n\u001B[1;32m    137\u001B[0m bound_args \u001B[38;5;241m=\u001B[39m function\u001B[38;5;241m.\u001B[39mfunction_type\u001B[38;5;241m.\u001B[39mbind(\u001B[38;5;241m*\u001B[39margs, \u001B[38;5;241m*\u001B[39m\u001B[38;5;241m*\u001B[39mkwargs)\n\u001B[1;32m    138\u001B[0m flat_inputs \u001B[38;5;241m=\u001B[39m function\u001B[38;5;241m.\u001B[39mfunction_type\u001B[38;5;241m.\u001B[39munpack_inputs(bound_args)\n\u001B[0;32m--> 139\u001B[0m \u001B[38;5;28;01mreturn\u001B[39;00m \u001B[43mfunction\u001B[49m\u001B[38;5;241;43m.\u001B[39;49m\u001B[43m_call_flat\u001B[49m\u001B[43m(\u001B[49m\u001B[43m  \u001B[49m\u001B[38;5;66;43;03m# pylint: disable=protected-access\u001B[39;49;00m\n\u001B[1;32m    140\u001B[0m \u001B[43m    \u001B[49m\u001B[43mflat_inputs\u001B[49m\u001B[43m,\u001B[49m\u001B[43m \u001B[49m\u001B[43mcaptured_inputs\u001B[49m\u001B[38;5;241;43m=\u001B[39;49m\u001B[43mfunction\u001B[49m\u001B[38;5;241;43m.\u001B[39;49m\u001B[43mcaptured_inputs\u001B[49m\n\u001B[1;32m    141\u001B[0m \u001B[43m\u001B[49m\u001B[43m)\u001B[49m\n",
      "File \u001B[0;32m~/PycharmProjects/BIRD_CLASSIFICATION/.venv/lib/python3.10/site-packages/tensorflow/python/eager/polymorphic_function/concrete_function.py:1264\u001B[0m, in \u001B[0;36mConcreteFunction._call_flat\u001B[0;34m(self, tensor_inputs, captured_inputs)\u001B[0m\n\u001B[1;32m   1260\u001B[0m possible_gradient_type \u001B[38;5;241m=\u001B[39m gradients_util\u001B[38;5;241m.\u001B[39mPossibleTapeGradientTypes(args)\n\u001B[1;32m   1261\u001B[0m \u001B[38;5;28;01mif\u001B[39;00m (possible_gradient_type \u001B[38;5;241m==\u001B[39m gradients_util\u001B[38;5;241m.\u001B[39mPOSSIBLE_GRADIENT_TYPES_NONE\n\u001B[1;32m   1262\u001B[0m     \u001B[38;5;129;01mand\u001B[39;00m executing_eagerly):\n\u001B[1;32m   1263\u001B[0m   \u001B[38;5;66;03m# No tape is watching; skip to running the function.\u001B[39;00m\n\u001B[0;32m-> 1264\u001B[0m   \u001B[38;5;28;01mreturn\u001B[39;00m \u001B[38;5;28;43mself\u001B[39;49m\u001B[38;5;241;43m.\u001B[39;49m\u001B[43m_inference_function\u001B[49m\u001B[38;5;241;43m.\u001B[39;49m\u001B[43mflat_call\u001B[49m\u001B[43m(\u001B[49m\u001B[43margs\u001B[49m\u001B[43m)\u001B[49m\n\u001B[1;32m   1265\u001B[0m forward_backward \u001B[38;5;241m=\u001B[39m \u001B[38;5;28mself\u001B[39m\u001B[38;5;241m.\u001B[39m_select_forward_and_backward_functions(\n\u001B[1;32m   1266\u001B[0m     args,\n\u001B[1;32m   1267\u001B[0m     possible_gradient_type,\n\u001B[1;32m   1268\u001B[0m     executing_eagerly)\n\u001B[1;32m   1269\u001B[0m forward_function, args_with_tangents \u001B[38;5;241m=\u001B[39m forward_backward\u001B[38;5;241m.\u001B[39mforward()\n",
      "File \u001B[0;32m~/PycharmProjects/BIRD_CLASSIFICATION/.venv/lib/python3.10/site-packages/tensorflow/python/eager/polymorphic_function/atomic_function.py:217\u001B[0m, in \u001B[0;36mAtomicFunction.flat_call\u001B[0;34m(self, args)\u001B[0m\n\u001B[1;32m    215\u001B[0m \u001B[38;5;28;01mdef\u001B[39;00m \u001B[38;5;21mflat_call\u001B[39m(\u001B[38;5;28mself\u001B[39m, args: Sequence[core\u001B[38;5;241m.\u001B[39mTensor]) \u001B[38;5;241m-\u001B[39m\u001B[38;5;241m>\u001B[39m Any:\n\u001B[1;32m    216\u001B[0m \u001B[38;5;250m  \u001B[39m\u001B[38;5;124;03m\"\"\"Calls with tensor inputs and returns the structured output.\"\"\"\u001B[39;00m\n\u001B[0;32m--> 217\u001B[0m   flat_outputs \u001B[38;5;241m=\u001B[39m \u001B[38;5;28;43mself\u001B[39;49m\u001B[43m(\u001B[49m\u001B[38;5;241;43m*\u001B[39;49m\u001B[43margs\u001B[49m\u001B[43m)\u001B[49m\n\u001B[1;32m    218\u001B[0m   \u001B[38;5;28;01mreturn\u001B[39;00m \u001B[38;5;28mself\u001B[39m\u001B[38;5;241m.\u001B[39mfunction_type\u001B[38;5;241m.\u001B[39mpack_output(flat_outputs)\n",
      "File \u001B[0;32m~/PycharmProjects/BIRD_CLASSIFICATION/.venv/lib/python3.10/site-packages/tensorflow/python/eager/polymorphic_function/atomic_function.py:252\u001B[0m, in \u001B[0;36mAtomicFunction.__call__\u001B[0;34m(self, *args)\u001B[0m\n\u001B[1;32m    250\u001B[0m \u001B[38;5;28;01mwith\u001B[39;00m record\u001B[38;5;241m.\u001B[39mstop_recording():\n\u001B[1;32m    251\u001B[0m   \u001B[38;5;28;01mif\u001B[39;00m \u001B[38;5;28mself\u001B[39m\u001B[38;5;241m.\u001B[39m_bound_context\u001B[38;5;241m.\u001B[39mexecuting_eagerly():\n\u001B[0;32m--> 252\u001B[0m     outputs \u001B[38;5;241m=\u001B[39m \u001B[38;5;28;43mself\u001B[39;49m\u001B[38;5;241;43m.\u001B[39;49m\u001B[43m_bound_context\u001B[49m\u001B[38;5;241;43m.\u001B[39;49m\u001B[43mcall_function\u001B[49m\u001B[43m(\u001B[49m\n\u001B[1;32m    253\u001B[0m \u001B[43m        \u001B[49m\u001B[38;5;28;43mself\u001B[39;49m\u001B[38;5;241;43m.\u001B[39;49m\u001B[43mname\u001B[49m\u001B[43m,\u001B[49m\n\u001B[1;32m    254\u001B[0m \u001B[43m        \u001B[49m\u001B[38;5;28;43mlist\u001B[39;49m\u001B[43m(\u001B[49m\u001B[43margs\u001B[49m\u001B[43m)\u001B[49m\u001B[43m,\u001B[49m\n\u001B[1;32m    255\u001B[0m \u001B[43m        \u001B[49m\u001B[38;5;28;43mlen\u001B[39;49m\u001B[43m(\u001B[49m\u001B[38;5;28;43mself\u001B[39;49m\u001B[38;5;241;43m.\u001B[39;49m\u001B[43mfunction_type\u001B[49m\u001B[38;5;241;43m.\u001B[39;49m\u001B[43mflat_outputs\u001B[49m\u001B[43m)\u001B[49m\u001B[43m,\u001B[49m\n\u001B[1;32m    256\u001B[0m \u001B[43m    \u001B[49m\u001B[43m)\u001B[49m\n\u001B[1;32m    257\u001B[0m   \u001B[38;5;28;01melse\u001B[39;00m:\n\u001B[1;32m    258\u001B[0m     outputs \u001B[38;5;241m=\u001B[39m make_call_op_in_graph(\n\u001B[1;32m    259\u001B[0m         \u001B[38;5;28mself\u001B[39m,\n\u001B[1;32m    260\u001B[0m         \u001B[38;5;28mlist\u001B[39m(args),\n\u001B[1;32m    261\u001B[0m         \u001B[38;5;28mself\u001B[39m\u001B[38;5;241m.\u001B[39m_bound_context\u001B[38;5;241m.\u001B[39mfunction_call_options\u001B[38;5;241m.\u001B[39mas_attrs(),\n\u001B[1;32m    262\u001B[0m     )\n",
      "File \u001B[0;32m~/PycharmProjects/BIRD_CLASSIFICATION/.venv/lib/python3.10/site-packages/tensorflow/python/eager/context.py:1479\u001B[0m, in \u001B[0;36mContext.call_function\u001B[0;34m(self, name, tensor_inputs, num_outputs)\u001B[0m\n\u001B[1;32m   1477\u001B[0m cancellation_context \u001B[38;5;241m=\u001B[39m cancellation\u001B[38;5;241m.\u001B[39mcontext()\n\u001B[1;32m   1478\u001B[0m \u001B[38;5;28;01mif\u001B[39;00m cancellation_context \u001B[38;5;129;01mis\u001B[39;00m \u001B[38;5;28;01mNone\u001B[39;00m:\n\u001B[0;32m-> 1479\u001B[0m   outputs \u001B[38;5;241m=\u001B[39m \u001B[43mexecute\u001B[49m\u001B[38;5;241;43m.\u001B[39;49m\u001B[43mexecute\u001B[49m\u001B[43m(\u001B[49m\n\u001B[1;32m   1480\u001B[0m \u001B[43m      \u001B[49m\u001B[43mname\u001B[49m\u001B[38;5;241;43m.\u001B[39;49m\u001B[43mdecode\u001B[49m\u001B[43m(\u001B[49m\u001B[38;5;124;43m\"\u001B[39;49m\u001B[38;5;124;43mutf-8\u001B[39;49m\u001B[38;5;124;43m\"\u001B[39;49m\u001B[43m)\u001B[49m\u001B[43m,\u001B[49m\n\u001B[1;32m   1481\u001B[0m \u001B[43m      \u001B[49m\u001B[43mnum_outputs\u001B[49m\u001B[38;5;241;43m=\u001B[39;49m\u001B[43mnum_outputs\u001B[49m\u001B[43m,\u001B[49m\n\u001B[1;32m   1482\u001B[0m \u001B[43m      \u001B[49m\u001B[43minputs\u001B[49m\u001B[38;5;241;43m=\u001B[39;49m\u001B[43mtensor_inputs\u001B[49m\u001B[43m,\u001B[49m\n\u001B[1;32m   1483\u001B[0m \u001B[43m      \u001B[49m\u001B[43mattrs\u001B[49m\u001B[38;5;241;43m=\u001B[39;49m\u001B[43mattrs\u001B[49m\u001B[43m,\u001B[49m\n\u001B[1;32m   1484\u001B[0m \u001B[43m      \u001B[49m\u001B[43mctx\u001B[49m\u001B[38;5;241;43m=\u001B[39;49m\u001B[38;5;28;43mself\u001B[39;49m\u001B[43m,\u001B[49m\n\u001B[1;32m   1485\u001B[0m \u001B[43m  \u001B[49m\u001B[43m)\u001B[49m\n\u001B[1;32m   1486\u001B[0m \u001B[38;5;28;01melse\u001B[39;00m:\n\u001B[1;32m   1487\u001B[0m   outputs \u001B[38;5;241m=\u001B[39m execute\u001B[38;5;241m.\u001B[39mexecute_with_cancellation(\n\u001B[1;32m   1488\u001B[0m       name\u001B[38;5;241m.\u001B[39mdecode(\u001B[38;5;124m\"\u001B[39m\u001B[38;5;124mutf-8\u001B[39m\u001B[38;5;124m\"\u001B[39m),\n\u001B[1;32m   1489\u001B[0m       num_outputs\u001B[38;5;241m=\u001B[39mnum_outputs,\n\u001B[0;32m   (...)\u001B[0m\n\u001B[1;32m   1493\u001B[0m       cancellation_manager\u001B[38;5;241m=\u001B[39mcancellation_context,\n\u001B[1;32m   1494\u001B[0m   )\n",
      "File \u001B[0;32m~/PycharmProjects/BIRD_CLASSIFICATION/.venv/lib/python3.10/site-packages/tensorflow/python/eager/execute.py:60\u001B[0m, in \u001B[0;36mquick_execute\u001B[0;34m(op_name, num_outputs, inputs, attrs, ctx, name)\u001B[0m\n\u001B[1;32m     53\u001B[0m   \u001B[38;5;66;03m# Convert any objects of type core_types.Tensor to Tensor.\u001B[39;00m\n\u001B[1;32m     54\u001B[0m   inputs \u001B[38;5;241m=\u001B[39m [\n\u001B[1;32m     55\u001B[0m       tensor_conversion_registry\u001B[38;5;241m.\u001B[39mconvert(t)\n\u001B[1;32m     56\u001B[0m       \u001B[38;5;28;01mif\u001B[39;00m \u001B[38;5;28misinstance\u001B[39m(t, core_types\u001B[38;5;241m.\u001B[39mTensor)\n\u001B[1;32m     57\u001B[0m       \u001B[38;5;28;01melse\u001B[39;00m t\n\u001B[1;32m     58\u001B[0m       \u001B[38;5;28;01mfor\u001B[39;00m t \u001B[38;5;129;01min\u001B[39;00m inputs\n\u001B[1;32m     59\u001B[0m   ]\n\u001B[0;32m---> 60\u001B[0m   tensors \u001B[38;5;241m=\u001B[39m \u001B[43mpywrap_tfe\u001B[49m\u001B[38;5;241;43m.\u001B[39;49m\u001B[43mTFE_Py_Execute\u001B[49m\u001B[43m(\u001B[49m\u001B[43mctx\u001B[49m\u001B[38;5;241;43m.\u001B[39;49m\u001B[43m_handle\u001B[49m\u001B[43m,\u001B[49m\u001B[43m \u001B[49m\u001B[43mdevice_name\u001B[49m\u001B[43m,\u001B[49m\u001B[43m \u001B[49m\u001B[43mop_name\u001B[49m\u001B[43m,\u001B[49m\n\u001B[1;32m     61\u001B[0m \u001B[43m                                      \u001B[49m\u001B[43minputs\u001B[49m\u001B[43m,\u001B[49m\u001B[43m \u001B[49m\u001B[43mattrs\u001B[49m\u001B[43m,\u001B[49m\u001B[43m \u001B[49m\u001B[43mnum_outputs\u001B[49m\u001B[43m)\u001B[49m\n\u001B[1;32m     62\u001B[0m \u001B[38;5;28;01mexcept\u001B[39;00m core\u001B[38;5;241m.\u001B[39m_NotOkStatusException \u001B[38;5;28;01mas\u001B[39;00m e:\n\u001B[1;32m     63\u001B[0m   \u001B[38;5;28;01mif\u001B[39;00m name \u001B[38;5;129;01mis\u001B[39;00m \u001B[38;5;129;01mnot\u001B[39;00m \u001B[38;5;28;01mNone\u001B[39;00m:\n",
      "\u001B[0;31mKeyboardInterrupt\u001B[0m: "
     ]
    }
   ],
   "source": [
    "model1.compile(loss='categorical_crossentropy',\n",
    "                           optimizer=Adam(learning_rate=0.0001),\n",
    "                           metrics=['accuracy'])\n",
    "start_epoch = 160\n",
    "\n",
    "model1.fit(train_dataset,\n",
    "                                        validation_data=validation_dataset,\n",
    "                                       \n",
    "                                        epochs=start_epoch+20,\n",
    "                                        initial_epoch=start_epoch, \n",
    "                                        verbose=1,\n",
    "                                        callbacks=[checkpointer]) "
   ],
   "metadata": {
    "collapsed": false,
    "ExecuteTime": {
     "end_time": "2024-03-23T15:33:13.978625074Z",
     "start_time": "2024-03-23T15:31:13.754203777Z"
    }
   },
   "id": "fc2554adc20a25a0",
   "execution_count": 23
  },
  {
   "cell_type": "code",
   "outputs": [],
   "source": [
    "loaded = tf.keras.models.load_model(\"Best_models/best_eff_b1.hdf5\")\n"
   ],
   "metadata": {
    "collapsed": false,
    "ExecuteTime": {
     "end_time": "2024-03-23T15:34:48.015009930Z",
     "start_time": "2024-03-23T15:34:46.275199502Z"
    }
   },
   "id": "f18896b7d8f88a2",
   "execution_count": 26
  },
  {
   "cell_type": "code",
   "outputs": [
    {
     "ename": "ValueError",
     "evalue": "in user code:\n\n    File \"/home/thefilthysalad/PycharmProjects/BIRD_CLASSIFICATION/.venv/lib/python3.10/site-packages/keras/src/engine/training.py\", line 2042, in test_function  *\n        return step_function(self, iterator)\n    File \"/home/thefilthysalad/PycharmProjects/BIRD_CLASSIFICATION/.venv/lib/python3.10/site-packages/keras/src/engine/training.py\", line 2025, in step_function  **\n        outputs = model.distribute_strategy.run(run_step, args=(data,))\n    File \"/home/thefilthysalad/PycharmProjects/BIRD_CLASSIFICATION/.venv/lib/python3.10/site-packages/keras/src/engine/training.py\", line 2013, in run_step  **\n        outputs = model.test_step(data)\n    File \"/home/thefilthysalad/PycharmProjects/BIRD_CLASSIFICATION/.venv/lib/python3.10/site-packages/keras/src/engine/training.py\", line 1895, in test_step\n        self.compute_loss(x, y, y_pred, sample_weight)\n    File \"/home/thefilthysalad/PycharmProjects/BIRD_CLASSIFICATION/.venv/lib/python3.10/site-packages/keras/src/engine/training.py\", line 1185, in compute_loss\n        return self.compiled_loss(\n    File \"/home/thefilthysalad/PycharmProjects/BIRD_CLASSIFICATION/.venv/lib/python3.10/site-packages/keras/src/engine/compile_utils.py\", line 277, in __call__\n        loss_value = loss_obj(y_t, y_p, sample_weight=sw)\n    File \"/home/thefilthysalad/PycharmProjects/BIRD_CLASSIFICATION/.venv/lib/python3.10/site-packages/keras/src/losses.py\", line 143, in __call__\n        losses = call_fn(y_true, y_pred)\n    File \"/home/thefilthysalad/PycharmProjects/BIRD_CLASSIFICATION/.venv/lib/python3.10/site-packages/keras/src/losses.py\", line 270, in call  **\n        return ag_fn(y_true, y_pred, **self._fn_kwargs)\n    File \"/home/thefilthysalad/PycharmProjects/BIRD_CLASSIFICATION/.venv/lib/python3.10/site-packages/keras/src/losses.py\", line 2221, in categorical_crossentropy\n        return backend.categorical_crossentropy(\n    File \"/home/thefilthysalad/PycharmProjects/BIRD_CLASSIFICATION/.venv/lib/python3.10/site-packages/keras/src/backend.py\", line 5575, in categorical_crossentropy\n        target.shape.assert_is_compatible_with(output.shape)\n\n    ValueError: Shapes (None, 167) and (None, 165) are incompatible\n",
     "output_type": "error",
     "traceback": [
      "\u001B[0;31m---------------------------------------------------------------------------\u001B[0m",
      "\u001B[0;31mValueError\u001B[0m                                Traceback (most recent call last)",
      "Cell \u001B[0;32mIn[29], line 1\u001B[0m\n\u001B[0;32m----> 1\u001B[0m \u001B[43mloaded\u001B[49m\u001B[38;5;241;43m.\u001B[39;49m\u001B[43mevaluate\u001B[49m\u001B[43m(\u001B[49m\u001B[43mtest_dataset\u001B[49m\u001B[43m)\u001B[49m\n",
      "File \u001B[0;32m~/PycharmProjects/BIRD_CLASSIFICATION/.venv/lib/python3.10/site-packages/keras/src/utils/traceback_utils.py:70\u001B[0m, in \u001B[0;36mfilter_traceback.<locals>.error_handler\u001B[0;34m(*args, **kwargs)\u001B[0m\n\u001B[1;32m     67\u001B[0m     filtered_tb \u001B[38;5;241m=\u001B[39m _process_traceback_frames(e\u001B[38;5;241m.\u001B[39m__traceback__)\n\u001B[1;32m     68\u001B[0m     \u001B[38;5;66;03m# To get the full stack trace, call:\u001B[39;00m\n\u001B[1;32m     69\u001B[0m     \u001B[38;5;66;03m# `tf.debugging.disable_traceback_filtering()`\u001B[39;00m\n\u001B[0;32m---> 70\u001B[0m     \u001B[38;5;28;01mraise\u001B[39;00m e\u001B[38;5;241m.\u001B[39mwith_traceback(filtered_tb) \u001B[38;5;28;01mfrom\u001B[39;00m \u001B[38;5;28;01mNone\u001B[39;00m\n\u001B[1;32m     71\u001B[0m \u001B[38;5;28;01mfinally\u001B[39;00m:\n\u001B[1;32m     72\u001B[0m     \u001B[38;5;28;01mdel\u001B[39;00m filtered_tb\n",
      "File \u001B[0;32m/tmp/__autograph_generated_file3vls9x_t.py:15\u001B[0m, in \u001B[0;36mouter_factory.<locals>.inner_factory.<locals>.tf__test_function\u001B[0;34m(iterator)\u001B[0m\n\u001B[1;32m     13\u001B[0m \u001B[38;5;28;01mtry\u001B[39;00m:\n\u001B[1;32m     14\u001B[0m     do_return \u001B[38;5;241m=\u001B[39m \u001B[38;5;28;01mTrue\u001B[39;00m\n\u001B[0;32m---> 15\u001B[0m     retval_ \u001B[38;5;241m=\u001B[39m ag__\u001B[38;5;241m.\u001B[39mconverted_call(ag__\u001B[38;5;241m.\u001B[39mld(step_function), (ag__\u001B[38;5;241m.\u001B[39mld(\u001B[38;5;28mself\u001B[39m), ag__\u001B[38;5;241m.\u001B[39mld(iterator)), \u001B[38;5;28;01mNone\u001B[39;00m, fscope)\n\u001B[1;32m     16\u001B[0m \u001B[38;5;28;01mexcept\u001B[39;00m:\n\u001B[1;32m     17\u001B[0m     do_return \u001B[38;5;241m=\u001B[39m \u001B[38;5;28;01mFalse\u001B[39;00m\n",
      "\u001B[0;31mValueError\u001B[0m: in user code:\n\n    File \"/home/thefilthysalad/PycharmProjects/BIRD_CLASSIFICATION/.venv/lib/python3.10/site-packages/keras/src/engine/training.py\", line 2042, in test_function  *\n        return step_function(self, iterator)\n    File \"/home/thefilthysalad/PycharmProjects/BIRD_CLASSIFICATION/.venv/lib/python3.10/site-packages/keras/src/engine/training.py\", line 2025, in step_function  **\n        outputs = model.distribute_strategy.run(run_step, args=(data,))\n    File \"/home/thefilthysalad/PycharmProjects/BIRD_CLASSIFICATION/.venv/lib/python3.10/site-packages/keras/src/engine/training.py\", line 2013, in run_step  **\n        outputs = model.test_step(data)\n    File \"/home/thefilthysalad/PycharmProjects/BIRD_CLASSIFICATION/.venv/lib/python3.10/site-packages/keras/src/engine/training.py\", line 1895, in test_step\n        self.compute_loss(x, y, y_pred, sample_weight)\n    File \"/home/thefilthysalad/PycharmProjects/BIRD_CLASSIFICATION/.venv/lib/python3.10/site-packages/keras/src/engine/training.py\", line 1185, in compute_loss\n        return self.compiled_loss(\n    File \"/home/thefilthysalad/PycharmProjects/BIRD_CLASSIFICATION/.venv/lib/python3.10/site-packages/keras/src/engine/compile_utils.py\", line 277, in __call__\n        loss_value = loss_obj(y_t, y_p, sample_weight=sw)\n    File \"/home/thefilthysalad/PycharmProjects/BIRD_CLASSIFICATION/.venv/lib/python3.10/site-packages/keras/src/losses.py\", line 143, in __call__\n        losses = call_fn(y_true, y_pred)\n    File \"/home/thefilthysalad/PycharmProjects/BIRD_CLASSIFICATION/.venv/lib/python3.10/site-packages/keras/src/losses.py\", line 270, in call  **\n        return ag_fn(y_true, y_pred, **self._fn_kwargs)\n    File \"/home/thefilthysalad/PycharmProjects/BIRD_CLASSIFICATION/.venv/lib/python3.10/site-packages/keras/src/losses.py\", line 2221, in categorical_crossentropy\n        return backend.categorical_crossentropy(\n    File \"/home/thefilthysalad/PycharmProjects/BIRD_CLASSIFICATION/.venv/lib/python3.10/site-packages/keras/src/backend.py\", line 5575, in categorical_crossentropy\n        target.shape.assert_is_compatible_with(output.shape)\n\n    ValueError: Shapes (None, 167) and (None, 165) are incompatible\n"
     ]
    }
   ],
   "source": [
    "loaded.evaluate(test_dataset)"
   ],
   "metadata": {
    "collapsed": false,
    "ExecuteTime": {
     "end_time": "2024-03-23T15:35:04.943001034Z",
     "start_time": "2024-03-23T15:35:04.386203702Z"
    }
   },
   "id": "8a519133f568da82",
   "execution_count": 29
  },
  {
   "cell_type": "code",
   "outputs": [],
   "source": [
    "train_data_path = \"BIRDS1_split/train\"\n",
    "test_data_path = \"BIRDS1_split/test\"\n",
    "IMG_HEIGHT, IMG_WIDTH = 224, 224\n",
    "BATCH_SIZE = 32\n",
    "bird_classes = sorted(os.listdir(train_data_path))"
   ],
   "metadata": {
    "collapsed": false,
    "ExecuteTime": {
     "end_time": "2024-03-25T01:48:07.998342231Z",
     "start_time": "2024-03-25T01:48:07.995684312Z"
    }
   },
   "id": "625e623f0830526b",
   "execution_count": 15
  },
  {
   "cell_type": "code",
   "outputs": [
    {
     "name": "stdout",
     "output_type": "stream",
     "text": [
      "Found 11545 files belonging to 167 classes.\n",
      "Found 11545 files belonging to 167 classes.\n"
     ]
    }
   ],
   "source": [
    "import tensorflow as tf\n",
    "test_dataset_224 = tf.keras.preprocessing.image_dataset_from_directory(\n",
    "    test_data_path,\n",
    "    labels='inferred',\n",
    "    label_mode='categorical',\n",
    "    batch_size=BATCH_SIZE,\n",
    "    image_size=(224, 224),\n",
    "    shuffle=False,\n",
    "    seed=123,\n",
    "\n",
    ")\n",
    "test_dataset_299 = tf.keras.preprocessing.image_dataset_from_directory(\n",
    "    test_data_path,\n",
    "    labels='inferred',\n",
    "    label_mode='categorical',\n",
    "    batch_size=BATCH_SIZE,\n",
    "    image_size=(299, 299),\n",
    "    shuffle=False,\n",
    "    seed=123,\n",
    "\n",
    ")\n",
    "preprocess_input = tf.keras.applications.resnet.preprocess_input\n",
    "\n",
    "test_dataset_224 = test_dataset_224.map(lambda x, y: (preprocess_input(x), y))\n",
    "test_dataset_299 = test_dataset_299.map(lambda x, y: (preprocess_input(x), y))"
   ],
   "metadata": {
    "collapsed": false,
    "ExecuteTime": {
     "end_time": "2024-03-25T01:50:09.196293339Z",
     "start_time": "2024-03-25T01:50:08.619601104Z"
    }
   },
   "id": "5f5f2fa1cb552d28",
   "execution_count": 26
  },
  {
   "cell_type": "code",
   "outputs": [],
   "source": [
    "y_labels_224 = []\n",
    "y_labels_299 = []\n",
    "for images, labels in test_dataset_224.unbatch():\n",
    "    y_labels_224.append(labels.numpy().argmax())\n",
    "for images, labels in test_dataset_299.unbatch():\n",
    "    y_labels_299.append(labels.numpy().argmax())"
   ],
   "metadata": {
    "collapsed": false,
    "ExecuteTime": {
     "end_time": "2024-03-25T01:50:20.692270182Z",
     "start_time": "2024-03-25T01:50:10.169739723Z"
    }
   },
   "id": "fef6cae17abf5a68",
   "execution_count": 27
  },
  {
   "cell_type": "code",
   "outputs": [],
   "source": [
    "def calculate_accuracy_top3(row):\n",
    "    if row['True Label'] in row['top 3 cols']:\n",
    "        return 1\n",
    "    else:\n",
    "        return 0"
   ],
   "metadata": {
    "collapsed": false,
    "ExecuteTime": {
     "end_time": "2024-03-25T01:48:19.332031011Z",
     "start_time": "2024-03-25T01:48:19.329874952Z"
    }
   },
   "id": "67f1aa1c789bca7d",
   "execution_count": 18
  },
  {
   "cell_type": "code",
   "outputs": [
    {
     "name": "stdout",
     "output_type": "stream",
     "text": [
      "361/361 [==============================] - 52s 136ms/step\n"
     ]
    },
    {
     "data": {
      "text/plain": "0.9887397141619749"
     },
     "execution_count": 28,
     "metadata": {},
     "output_type": "execute_result"
    }
   ],
   "source": [
    "import pandas as pd\n",
    "\n",
    "eff_b7 = tf.keras.models.load_model(\"Best_models/best_eff_b7_90.67\")\n",
    "preds_eff_b7 = pd.DataFrame(eff_b7.predict(test_dataset_224))\n",
    "top3_labels = utils.add_top_three_row_values(preds_eff_b7, y_labels_224)\n",
    "top3_labels['Accuracy_Top3'] = top3_labels.apply(calculate_accuracy_top3, axis=1)\n",
    "overall_accuracy_top3 = top3_labels['Accuracy_Top3'].mean()\n",
    "overall_accuracy_top3"
   ],
   "metadata": {
    "collapsed": false,
    "ExecuteTime": {
     "end_time": "2024-03-24T18:58:27.288892407Z",
     "start_time": "2024-03-24T18:57:17.137700522Z"
    }
   },
   "id": "aadfb66295325487",
   "execution_count": 28
  },
  {
   "cell_type": "code",
   "outputs": [
    {
     "name": "stdout",
     "output_type": "stream",
     "text": [
      "361/361 [==============================] - 42s 107ms/step\n"
     ]
    },
    {
     "data": {
      "text/plain": "0.9799913382416631"
     },
     "execution_count": 31,
     "metadata": {},
     "output_type": "execute_result"
    }
   ],
   "source": [
    "eff_v2L = tf.keras.models.load_model(\"Best_models/best_effnetv2L_90.57\")\n",
    "\n",
    "preds_eff_v2L = pd.DataFrame(eff_v2L.predict(test_dataset_224))\n",
    "\n",
    "top3_labels_effv2L = utils.add_top_three_row_values(preds_eff_v2L, y_labels_224)\n",
    "\n",
    "top3_labels_effv2L['Accuracy_Top3'] = top3_labels_effv2L.apply(calculate_accuracy_top3, axis=1)\n",
    "\n",
    "overall_accuracy_top3_effv2L = top3_labels_effv2L['Accuracy_Top3'].mean()\n",
    "\n",
    "overall_accuracy_top3_effv2L"
   ],
   "metadata": {
    "collapsed": false,
    "ExecuteTime": {
     "end_time": "2024-03-24T19:02:35.464218117Z",
     "start_time": "2024-03-24T19:01:25.365695232Z"
    }
   },
   "id": "f0bed9c2b7047aea",
   "execution_count": 31
  },
  {
   "cell_type": "code",
   "outputs": [
    {
     "name": "stdout",
     "output_type": "stream",
     "text": [
      "361/361 [==============================] - 5s 12ms/step\n"
     ]
    },
    {
     "data": {
      "text/plain": "0.9711563447379818"
     },
     "execution_count": 32,
     "metadata": {},
     "output_type": "execute_result"
    }
   ],
   "source": [
    "mobilenet_vsmall = tf.keras.models.load_model(\"Best_models/best_mobilenet_small_89.65\")\n",
    "\n",
    "preds_mobilenet_vsmall= pd.DataFrame(mobilenet_vsmall.predict(test_dataset_224))\n",
    "\n",
    "top3_mobilenet_vsmall  = utils.add_top_three_row_values(preds_mobilenet_vsmall, y_labels_224)\n",
    "\n",
    "top3_mobilenet_vsmall['Accuracy_Top3'] = top3_mobilenet_vsmall.apply(calculate_accuracy_top3, axis=1)\n",
    "\n",
    "overall_accuracy_top3_mobilenet_vsmall= top3_mobilenet_vsmall['Accuracy_Top3'].mean()\n",
    "\n",
    "overall_accuracy_top3_mobilenet_vsmall"
   ],
   "metadata": {
    "collapsed": false,
    "ExecuteTime": {
     "end_time": "2024-03-24T19:03:30.134320558Z",
     "start_time": "2024-03-24T19:03:21.341518113Z"
    }
   },
   "id": "574408f4edaf7a60",
   "execution_count": 32
  },
  {
   "cell_type": "code",
   "outputs": [
    {
     "name": "stdout",
     "output_type": "stream",
     "text": [
      "361/361 [==============================] - 7s 16ms/step\n"
     ]
    },
    {
     "data": {
      "text/plain": "0.9778258986574274"
     },
     "execution_count": 34,
     "metadata": {},
     "output_type": "execute_result"
    }
   ],
   "source": [
    "mobilenet_vlarge = tf.keras.models.load_model(\"Best_models/best_mobilenetv3large_90.67\")\n",
    "\n",
    "preds_mobilenet_vlarge = pd.DataFrame(mobilenet_vlarge.predict(test_dataset_224))\n",
    "\n",
    "top3_mobilenet_vlarge  = utils.add_top_three_row_values(preds_mobilenet_vlarge, y_labels_224)\n",
    "\n",
    "top3_mobilenet_vlarge['Accuracy_Top3'] = top3_mobilenet_vlarge.apply(calculate_accuracy_top3, axis=1)\n",
    "\n",
    "overall_accuracy_top3_mobilenet_vlarge= top3_mobilenet_vlarge['Accuracy_Top3'].mean()\n",
    "\n",
    "overall_accuracy_top3_mobilenet_vlarge"
   ],
   "metadata": {
    "collapsed": false,
    "ExecuteTime": {
     "end_time": "2024-03-24T19:05:29.575781066Z",
     "start_time": "2024-03-24T19:05:18.779974966Z"
    }
   },
   "id": "771f86763b648bc8",
   "execution_count": 34
  },
  {
   "cell_type": "code",
   "outputs": [],
   "source": [
    "import os \n",
    "labels = os.listdir(\"BIRDS1_split/train_165\")\n",
    "processed = []\n",
    "for i in labels:\n",
    "    i = i.lower()\n",
    "    if ' ' in i:\n",
    "        i.replace(' ','_')\n",
    "    if '-' in i:\n",
    "        i.replace('-','_')\n",
    "    processed.append(i)\n",
    "processed = sorted(processed)"
   ],
   "metadata": {
    "collapsed": false,
    "ExecuteTime": {
     "end_time": "2024-03-24T23:19:38.927992712Z",
     "start_time": "2024-03-24T23:19:38.882249250Z"
    }
   },
   "id": "7ce15d9c884a5111",
   "execution_count": 5
  },
  {
   "cell_type": "code",
   "outputs": [
    {
     "name": "stdout",
     "output_type": "stream",
     "text": [
      "361/361 [==============================] - 28s 75ms/step - loss: 0.3528 - accuracy: 0.9023\n"
     ]
    },
    {
     "data": {
      "text/plain": "[0.352769136428833, 0.9022953510284424]"
     },
     "execution_count": 28,
     "metadata": {},
     "output_type": "execute_result"
    }
   ],
   "source": [
    "loaded = tf.keras.models.load_model(\"Best_models/resnet_90.22\")\n",
    "loaded.evaluate(test_dataset_224)"
   ],
   "metadata": {
    "collapsed": false,
    "ExecuteTime": {
     "end_time": "2024-03-25T01:51:03.803576266Z",
     "start_time": "2024-03-25T01:50:25.139889870Z"
    }
   },
   "id": "4cbc33424c90d9dd",
   "execution_count": 28
  },
  {
   "cell_type": "code",
   "outputs": [],
   "source": [
    "y_labels_224 = []\n",
    "for images, labels in test_dataset_224.unbatch():\n",
    "    y_labels_224.append(labels.numpy().argmax())\n"
   ],
   "metadata": {
    "collapsed": false,
    "ExecuteTime": {
     "end_time": "2024-03-25T01:51:07.830403886Z",
     "start_time": "2024-03-25T01:51:03.804731861Z"
    }
   },
   "id": "95fbb6de1acab8fd",
   "execution_count": 29
  },
  {
   "cell_type": "code",
   "outputs": [],
   "source": [
    "def calculate_accuracy_top3(row):\n",
    "    if row['True Label'] in row['top 3 cols']:\n",
    "        return 1\n",
    "    else:\n",
    "        return 0"
   ],
   "metadata": {
    "collapsed": false,
    "ExecuteTime": {
     "end_time": "2024-03-25T01:51:07.831908936Z",
     "start_time": "2024-03-25T01:51:07.830350887Z"
    }
   },
   "id": "9fc5c5c5d74c881a",
   "execution_count": 30
  },
  {
   "cell_type": "code",
   "outputs": [
    {
     "name": "stdout",
     "output_type": "stream",
     "text": [
      "361/361 [==============================] - 27s 70ms/step\n"
     ]
    },
    {
     "data": {
      "text/plain": "0.9871805976613253"
     },
     "execution_count": 32,
     "metadata": {},
     "output_type": "execute_result"
    }
   ],
   "source": [
    "import pandas as pd\n",
    "\n",
    "\n",
    "preds_eff_b7 = pd.DataFrame(loaded.predict(test_dataset_224))\n",
    "top3_labels = utils.add_top_three_row_values(preds_eff_b7, y_labels_224)\n",
    "top3_labels['Accuracy_Top3'] = top3_labels.apply(calculate_accuracy_top3, axis=1)\n",
    "overall_accuracy_top3 = top3_labels['Accuracy_Top3'].mean()\n",
    "overall_accuracy_top3"
   ],
   "metadata": {
    "collapsed": false,
    "ExecuteTime": {
     "end_time": "2024-03-25T01:51:48.742821082Z",
     "start_time": "2024-03-25T01:51:21.818833239Z"
    }
   },
   "id": "794470080858aaf1",
   "execution_count": 32
  },
  {
   "cell_type": "code",
   "outputs": [],
   "source": [],
   "metadata": {
    "collapsed": false
   },
   "id": "a733be0121a88e2e"
  }
 ],
 "metadata": {
  "kernelspec": {
   "display_name": "Python 3",
   "language": "python",
   "name": "python3"
  },
  "language_info": {
   "codemirror_mode": {
    "name": "ipython",
    "version": 2
   },
   "file_extension": ".py",
   "mimetype": "text/x-python",
   "name": "python",
   "nbconvert_exporter": "python",
   "pygments_lexer": "ipython2",
   "version": "2.7.6"
  }
 },
 "nbformat": 4,
 "nbformat_minor": 5
}
