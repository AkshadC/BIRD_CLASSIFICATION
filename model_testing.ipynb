{
 "cells": [
  {
   "cell_type": "code",
   "execution_count": 1,
   "id": "initial_id",
   "metadata": {
    "collapsed": true,
    "ExecuteTime": {
     "end_time": "2024-03-26T13:08:49.708761593Z",
     "start_time": "2024-03-26T13:08:47.707879644Z"
    }
   },
   "outputs": [
    {
     "name": "stderr",
     "output_type": "stream",
     "text": [
      "2024-03-26 09:08:47.865817: I tensorflow/core/util/port.cc:111] oneDNN custom operations are on. You may see slightly different numerical results due to floating-point round-off errors from different computation orders. To turn them off, set the environment variable `TF_ENABLE_ONEDNN_OPTS=0`.\n",
      "2024-03-26 09:08:47.890833: E tensorflow/compiler/xla/stream_executor/cuda/cuda_dnn.cc:9342] Unable to register cuDNN factory: Attempting to register factory for plugin cuDNN when one has already been registered\n",
      "2024-03-26 09:08:47.890857: E tensorflow/compiler/xla/stream_executor/cuda/cuda_fft.cc:609] Unable to register cuFFT factory: Attempting to register factory for plugin cuFFT when one has already been registered\n",
      "2024-03-26 09:08:47.890881: E tensorflow/compiler/xla/stream_executor/cuda/cuda_blas.cc:1518] Unable to register cuBLAS factory: Attempting to register factory for plugin cuBLAS when one has already been registered\n",
      "2024-03-26 09:08:47.896521: I tensorflow/core/platform/cpu_feature_guard.cc:182] This TensorFlow binary is optimized to use available CPU instructions in performance-critical operations.\n",
      "To enable the following instructions: AVX2 AVX512F AVX512_VNNI AVX512_BF16 FMA, in other operations, rebuild TensorFlow with the appropriate compiler flags.\n",
      "2024-03-26 09:08:48.507625: W tensorflow/compiler/tf2tensorrt/utils/py_utils.cc:38] TF-TRT Warning: Could not find TensorRT\n"
     ]
    },
    {
     "name": "stdout",
     "output_type": "stream",
     "text": [
      "INFO:tensorflow:Mixed precision compatibility check (mixed_float16): OK\n",
      "Your GPU will likely run quickly with dtype policy mixed_float16 as it has compute capability of at least 7.0. Your GPU: NVIDIA GeForce RTX 4070 Laptop GPU, compute capability 8.9\n"
     ]
    },
    {
     "name": "stderr",
     "output_type": "stream",
     "text": [
      "2024-03-26 09:08:49.677971: I tensorflow/compiler/xla/stream_executor/cuda/cuda_gpu_executor.cc:894] successful NUMA node read from SysFS had negative value (-1), but there must be at least one NUMA node, so returning NUMA node zero. See more at https://github.com/torvalds/linux/blob/v6.0/Documentation/ABI/testing/sysfs-bus-pci#L344-L355\n",
      "2024-03-26 09:08:49.704113: I tensorflow/compiler/xla/stream_executor/cuda/cuda_gpu_executor.cc:894] successful NUMA node read from SysFS had negative value (-1), but there must be at least one NUMA node, so returning NUMA node zero. See more at https://github.com/torvalds/linux/blob/v6.0/Documentation/ABI/testing/sysfs-bus-pci#L344-L355\n",
      "2024-03-26 09:08:49.704322: I tensorflow/compiler/xla/stream_executor/cuda/cuda_gpu_executor.cc:894] successful NUMA node read from SysFS had negative value (-1), but there must be at least one NUMA node, so returning NUMA node zero. See more at https://github.com/torvalds/linux/blob/v6.0/Documentation/ABI/testing/sysfs-bus-pci#L344-L355\n",
      "2024-03-26 09:08:49.704712: I tensorflow/compiler/xla/stream_executor/cuda/cuda_gpu_executor.cc:894] successful NUMA node read from SysFS had negative value (-1), but there must be at least one NUMA node, so returning NUMA node zero. See more at https://github.com/torvalds/linux/blob/v6.0/Documentation/ABI/testing/sysfs-bus-pci#L344-L355\n"
     ]
    }
   ],
   "source": [
    "import numpy as np\n",
    "import pandas as pd\n",
    "import tensorflow as tf\n",
    "from tensorflow.keras import layers\n",
    "import utils\n",
    "from tensorflow.keras import mixed_precision\n",
    "import os\n",
    "from tensorflow.keras.models import Model\n",
    "from tensorflow.keras.optimizers import Adam, SGD\n",
    "from tensorflow.keras.callbacks import ModelCheckpoint, EarlyStopping\n",
    "mixed_precision.set_global_policy('mixed_float16')\n",
    "import logging\n",
    "tf.get_logger().setLevel(logging.ERROR)"
   ]
  },
  {
   "cell_type": "code",
   "outputs": [
    {
     "name": "stdout",
     "output_type": "stream",
     "text": [
      "Found 11545 files belonging to 167 classes.\n"
     ]
    },
    {
     "name": "stderr",
     "output_type": "stream",
     "text": [
      "2024-03-26 09:08:49.988704: I tensorflow/compiler/xla/stream_executor/cuda/cuda_gpu_executor.cc:894] successful NUMA node read from SysFS had negative value (-1), but there must be at least one NUMA node, so returning NUMA node zero. See more at https://github.com/torvalds/linux/blob/v6.0/Documentation/ABI/testing/sysfs-bus-pci#L344-L355\n",
      "2024-03-26 09:08:49.988926: I tensorflow/compiler/xla/stream_executor/cuda/cuda_gpu_executor.cc:894] successful NUMA node read from SysFS had negative value (-1), but there must be at least one NUMA node, so returning NUMA node zero. See more at https://github.com/torvalds/linux/blob/v6.0/Documentation/ABI/testing/sysfs-bus-pci#L344-L355\n",
      "2024-03-26 09:08:49.989088: I tensorflow/compiler/xla/stream_executor/cuda/cuda_gpu_executor.cc:894] successful NUMA node read from SysFS had negative value (-1), but there must be at least one NUMA node, so returning NUMA node zero. See more at https://github.com/torvalds/linux/blob/v6.0/Documentation/ABI/testing/sysfs-bus-pci#L344-L355\n",
      "2024-03-26 09:08:50.045510: I tensorflow/compiler/xla/stream_executor/cuda/cuda_gpu_executor.cc:894] successful NUMA node read from SysFS had negative value (-1), but there must be at least one NUMA node, so returning NUMA node zero. See more at https://github.com/torvalds/linux/blob/v6.0/Documentation/ABI/testing/sysfs-bus-pci#L344-L355\n",
      "2024-03-26 09:08:50.045702: I tensorflow/compiler/xla/stream_executor/cuda/cuda_gpu_executor.cc:894] successful NUMA node read from SysFS had negative value (-1), but there must be at least one NUMA node, so returning NUMA node zero. See more at https://github.com/torvalds/linux/blob/v6.0/Documentation/ABI/testing/sysfs-bus-pci#L344-L355\n",
      "2024-03-26 09:08:50.045876: I tensorflow/compiler/xla/stream_executor/cuda/cuda_gpu_executor.cc:894] successful NUMA node read from SysFS had negative value (-1), but there must be at least one NUMA node, so returning NUMA node zero. See more at https://github.com/torvalds/linux/blob/v6.0/Documentation/ABI/testing/sysfs-bus-pci#L344-L355\n",
      "2024-03-26 09:08:50.046016: I tensorflow/core/common_runtime/gpu/gpu_device.cc:1886] Created device /job:localhost/replica:0/task:0/device:GPU:0 with 6067 MB memory:  -> device: 0, name: NVIDIA GeForce RTX 4070 Laptop GPU, pci bus id: 0000:01:00.0, compute capability: 8.9\n"
     ]
    },
    {
     "name": "stdout",
     "output_type": "stream",
     "text": [
      "Found 11545 files belonging to 167 classes.\n"
     ]
    }
   ],
   "source": [
    "train_data_path = \"BIRDS1_split/train\"\n",
    "test_data_path = \"BIRDS1_split/test\"\n",
    "IMG_HEIGHT, IMG_WIDTH = 224, 224\n",
    "BATCH_SIZE = 32\n",
    "bird_classes = sorted(os.listdir(train_data_path))\n",
    "bird_classes\n",
    "test_dataset_224 = tf.keras.preprocessing.image_dataset_from_directory(\n",
    "    test_data_path,\n",
    "    labels='inferred',\n",
    "    label_mode='categorical',\n",
    "    batch_size=BATCH_SIZE,\n",
    "    image_size=(IMG_HEIGHT, IMG_WIDTH),\n",
    "    shuffle=False,\n",
    "    seed=123,\n",
    "\n",
    ")\n",
    "test_dataset_299= tf.keras.preprocessing.image_dataset_from_directory(\n",
    "    test_data_path,\n",
    "    labels='inferred',\n",
    "    label_mode='categorical',\n",
    "    batch_size=BATCH_SIZE,\n",
    "    image_size=(299, 299),\n",
    "    shuffle=False,\n",
    "    seed=123,\n",
    "\n",
    ")"
   ],
   "metadata": {
    "collapsed": false,
    "ExecuteTime": {
     "end_time": "2024-03-26T13:08:50.445618089Z",
     "start_time": "2024-03-26T13:08:49.710231071Z"
    }
   },
   "id": "426e0e5de4ed657b",
   "execution_count": 2
  },
  {
   "cell_type": "code",
   "outputs": [],
   "source": [
    "preprocess_input_effnet = tf.keras.applications.efficientnet.preprocess_input\n",
    "preprocess_input_effnet_v2 = tf.keras.applications.efficientnet_v2.preprocess_input\n",
    "preprocess_input_mobilenetsmall = tf.keras.applications.mobilenet.preprocess_input\n",
    "preprocess_input_mobilenetv3largee = tf.keras.applications.mobilenet_v3.preprocess_input\n",
    "preprocess_input_resnet = tf.keras.applications.resnet.preprocess_input"
   ],
   "metadata": {
    "collapsed": false,
    "ExecuteTime": {
     "end_time": "2024-03-26T13:08:50.488981544Z",
     "start_time": "2024-03-26T13:08:50.446343966Z"
    }
   },
   "id": "cc26f188a1f944cc",
   "execution_count": 3
  },
  {
   "cell_type": "code",
   "outputs": [],
   "source": [
    "test_dataset_224_effb7 = test_dataset_224.map(lambda x, y: (preprocess_input_effnet(x), y))\n",
    "test_dataset_224_effV2L = test_dataset_224.map(lambda x, y: (preprocess_input_effnet_v2(x), y))\n",
    "test_dataset_224_mobilenetsmall = test_dataset_224.map(lambda x, y: (preprocess_input_mobilenetsmall(x), y))\n",
    "test_dataset_224_mobilenetv3large= test_dataset_224.map(lambda x, y: (preprocess_input_mobilenetv3largee(x), y))\n",
    "test_dataset_224_resnet = test_dataset_224.map(lambda x, y: (preprocess_input_resnet(x), y))"
   ],
   "metadata": {
    "collapsed": false,
    "ExecuteTime": {
     "end_time": "2024-03-26T13:19:11.073527467Z",
     "start_time": "2024-03-26T13:19:11.049146547Z"
    }
   },
   "id": "f4886fb1ab7d5350",
   "execution_count": 22
  },
  {
   "cell_type": "code",
   "outputs": [],
   "source": [
    "effb7 = tf.keras.models.load_model(\"Best_models/best_eff_b7_90.67\")\n",
    "effv2l = tf.keras.models.load_model(\"Best_models/best_effnetv2L_90.57\")\n",
    "mobilenetsmall = tf.keras.models.load_model(\"Best_models/best_mobilenet_small_89.65\")\n",
    "mobilenetlarge = tf.keras.models.load_model(\"Best_models/best_mobilenetv3large_90.67\")\n",
    "resnet = tf.keras.models.load_model(\"Best_models/resnet_90.22\")\n"
   ],
   "metadata": {
    "collapsed": false,
    "ExecuteTime": {
     "end_time": "2024-03-26T13:09:42.937886681Z",
     "start_time": "2024-03-26T13:08:50.506626218Z"
    }
   },
   "id": "4ecc4127210360fe",
   "execution_count": 5
  },
  {
   "cell_type": "code",
   "outputs": [
    {
     "name": "stdout",
     "output_type": "stream",
     "text": [
      "361/361 [==============================] - 45s 126ms/step\n"
     ]
    },
    {
     "data": {
      "text/plain": "array([[5.33957422e-01, 4.05637060e-25, 5.59847724e-11, ...,\n        4.79629873e-19, 2.13901688e-14, 3.73075451e-23],\n       [5.18665612e-01, 1.70382812e-14, 6.37755932e-07, ...,\n        5.78528718e-11, 2.95757885e-09, 1.14885640e-12],\n       [5.12335122e-01, 1.66763383e-25, 3.38355544e-14, ...,\n        5.15714574e-20, 7.28958113e-14, 9.07663989e-24],\n       ...,\n       [1.34281084e-17, 3.67159618e-13, 4.65406706e-11, ...,\n        2.13902005e-19, 2.98250799e-11, 9.99867082e-01],\n       [0.00000000e+00, 2.97335929e-35, 2.23934658e-35, ...,\n        0.00000000e+00, 2.54032928e-36, 1.00000000e+00],\n       [0.00000000e+00, 0.00000000e+00, 0.00000000e+00, ...,\n        0.00000000e+00, 0.00000000e+00, 1.00000000e+00]], dtype=float32)"
     },
     "execution_count": 7,
     "metadata": {},
     "output_type": "execute_result"
    }
   ],
   "source": [
    "effb7_pred = effb7.predict(test_dataset_224_effb7)\n",
    "effb7_pred"
   ],
   "metadata": {
    "collapsed": false,
    "ExecuteTime": {
     "end_time": "2024-03-26T13:11:30.021569776Z",
     "start_time": "2024-03-26T13:10:44.598234365Z"
    }
   },
   "id": "948a944416f2b017",
   "execution_count": 7
  },
  {
   "cell_type": "code",
   "outputs": [],
   "source": [
    "effb7_pred = effb7_pred.argmax(axis=1)"
   ],
   "metadata": {
    "collapsed": false,
    "ExecuteTime": {
     "end_time": "2024-03-26T13:13:40.633834653Z",
     "start_time": "2024-03-26T13:13:40.629517252Z"
    }
   },
   "id": "f415ac1ac6421374",
   "execution_count": 12
  },
  {
   "cell_type": "code",
   "outputs": [
    {
     "name": "stdout",
     "output_type": "stream",
     "text": [
      "361/361 [==============================] - 41s 105ms/step\n"
     ]
    },
    {
     "data": {
      "text/plain": "array([  0,   0,   0, ...,   2, 166, 166])"
     },
     "execution_count": 13,
     "metadata": {},
     "output_type": "execute_result"
    }
   ],
   "source": [
    "effv2l_pred = effv2l.predict(test_dataset_224_effV2L).argmax(axis=1)\n",
    "effv2l_pred"
   ],
   "metadata": {
    "collapsed": false,
    "ExecuteTime": {
     "end_time": "2024-03-26T13:15:39.855959894Z",
     "start_time": "2024-03-26T13:14:58.558349017Z"
    }
   },
   "id": "1e27a5cf7b1e2625",
   "execution_count": 13
  },
  {
   "cell_type": "code",
   "outputs": [
    {
     "name": "stdout",
     "output_type": "stream",
     "text": [
      "361/361 [==============================] - 6s 14ms/step\n"
     ]
    },
    {
     "data": {
      "text/plain": "array([106, 106, 106, ..., 106, 106, 106])"
     },
     "execution_count": 14,
     "metadata": {},
     "output_type": "execute_result"
    }
   ],
   "source": [
    "mobilenetsmall_pred = mobilenetsmall.predict(test_dataset_224_mobilenetsmall).argmax(axis=1)\n",
    "mobilenetsmall_pred"
   ],
   "metadata": {
    "collapsed": false,
    "ExecuteTime": {
     "end_time": "2024-03-26T13:15:51.254037878Z",
     "start_time": "2024-03-26T13:15:45.533721914Z"
    }
   },
   "id": "cd3b3e77f9791ec7",
   "execution_count": 14
  },
  {
   "cell_type": "code",
   "outputs": [
    {
     "name": "stdout",
     "output_type": "stream",
     "text": [
      "361/361 [==============================] - 36s 101ms/step\n"
     ]
    },
    {
     "data": {
      "text/plain": "array([  0,   0,   0, ...,   2, 166, 166])"
     },
     "execution_count": 15,
     "metadata": {},
     "output_type": "execute_result"
    }
   ],
   "source": [
    "mobilenetlarge_pred = effv2l.predict(test_dataset_224_mobilenetv3large).argmax(axis=1)\n",
    "mobilenetlarge_pred"
   ],
   "metadata": {
    "collapsed": false,
    "ExecuteTime": {
     "end_time": "2024-03-26T13:16:46.145667839Z",
     "start_time": "2024-03-26T13:16:09.578346768Z"
    }
   },
   "id": "ba53b07735a81080",
   "execution_count": 15
  },
  {
   "cell_type": "code",
   "outputs": [
    {
     "name": "stdout",
     "output_type": "stream",
     "text": [
      "361/361 [==============================] - 24s 65ms/step\n"
     ]
    },
    {
     "data": {
      "text/plain": "array([  0,   0,  27, ..., 166, 166, 166])"
     },
     "execution_count": 23,
     "metadata": {},
     "output_type": "execute_result"
    }
   ],
   "source": [
    "resnet_pred = resnet.predict(test_dataset_224_resnet).argmax(axis=1)\n",
    "resnet_pred"
   ],
   "metadata": {
    "collapsed": false,
    "ExecuteTime": {
     "end_time": "2024-03-26T13:19:44.185122001Z",
     "start_time": "2024-03-26T13:19:20.524112148Z"
    }
   },
   "id": "6e07dacbd5eb478b",
   "execution_count": 23
  },
  {
   "cell_type": "code",
   "outputs": [],
   "source": [
    "import pandas as pd\n",
    "effv2l_pred = pd.DataFrame(effv2l_pred)\n",
    "resnet_pred = pd.DataFrame(resnet_pred)\n",
    "mobilenetsmall_pred = pd.DataFrame(mobilenetsmall_pred)\n",
    "mobilenetlarge_pred = pd.DataFrame(mobilenetlarge_pred)\n",
    "effb7_pred = pd.DataFrame(effb7_pred)"
   ],
   "metadata": {
    "collapsed": false,
    "ExecuteTime": {
     "end_time": "2024-03-26T13:21:28.476599392Z",
     "start_time": "2024-03-26T13:21:28.429880183Z"
    }
   },
   "id": "bc535d315b3b8c5a",
   "execution_count": 26
  },
  {
   "cell_type": "code",
   "outputs": [
    {
     "data": {
      "text/plain": "         0    0    0    0    0\n0        0    0    0  106    0\n1        0    0    0  106    0\n2        0    0    0  106   27\n3        0    0    0  106    0\n4        0    0    0  106   27\n...    ...  ...  ...  ...  ...\n11540  166  166  166  106  166\n11541  166  155  155  106  166\n11542  166    2    2  106  166\n11543  166  166  166  106  166\n11544  166  166  166  106  166\n\n[11545 rows x 5 columns]",
      "text/html": "<div>\n<style scoped>\n    .dataframe tbody tr th:only-of-type {\n        vertical-align: middle;\n    }\n\n    .dataframe tbody tr th {\n        vertical-align: top;\n    }\n\n    .dataframe thead th {\n        text-align: right;\n    }\n</style>\n<table border=\"1\" class=\"dataframe\">\n  <thead>\n    <tr style=\"text-align: right;\">\n      <th></th>\n      <th>0</th>\n      <th>0</th>\n      <th>0</th>\n      <th>0</th>\n      <th>0</th>\n    </tr>\n  </thead>\n  <tbody>\n    <tr>\n      <th>0</th>\n      <td>0</td>\n      <td>0</td>\n      <td>0</td>\n      <td>106</td>\n      <td>0</td>\n    </tr>\n    <tr>\n      <th>1</th>\n      <td>0</td>\n      <td>0</td>\n      <td>0</td>\n      <td>106</td>\n      <td>0</td>\n    </tr>\n    <tr>\n      <th>2</th>\n      <td>0</td>\n      <td>0</td>\n      <td>0</td>\n      <td>106</td>\n      <td>27</td>\n    </tr>\n    <tr>\n      <th>3</th>\n      <td>0</td>\n      <td>0</td>\n      <td>0</td>\n      <td>106</td>\n      <td>0</td>\n    </tr>\n    <tr>\n      <th>4</th>\n      <td>0</td>\n      <td>0</td>\n      <td>0</td>\n      <td>106</td>\n      <td>27</td>\n    </tr>\n    <tr>\n      <th>...</th>\n      <td>...</td>\n      <td>...</td>\n      <td>...</td>\n      <td>...</td>\n      <td>...</td>\n    </tr>\n    <tr>\n      <th>11540</th>\n      <td>166</td>\n      <td>166</td>\n      <td>166</td>\n      <td>106</td>\n      <td>166</td>\n    </tr>\n    <tr>\n      <th>11541</th>\n      <td>166</td>\n      <td>155</td>\n      <td>155</td>\n      <td>106</td>\n      <td>166</td>\n    </tr>\n    <tr>\n      <th>11542</th>\n      <td>166</td>\n      <td>2</td>\n      <td>2</td>\n      <td>106</td>\n      <td>166</td>\n    </tr>\n    <tr>\n      <th>11543</th>\n      <td>166</td>\n      <td>166</td>\n      <td>166</td>\n      <td>106</td>\n      <td>166</td>\n    </tr>\n    <tr>\n      <th>11544</th>\n      <td>166</td>\n      <td>166</td>\n      <td>166</td>\n      <td>106</td>\n      <td>166</td>\n    </tr>\n  </tbody>\n</table>\n<p>11545 rows × 5 columns</p>\n</div>"
     },
     "execution_count": 29,
     "metadata": {},
     "output_type": "execute_result"
    }
   ],
   "source": [
    "results = pd.concat([effb7_pred, effv2l_pred, mobilenetlarge_pred, mobilenetsmall_pred, resnet_pred], axis=1)\n",
    "results"
   ],
   "metadata": {
    "collapsed": false,
    "ExecuteTime": {
     "end_time": "2024-03-26T13:24:29.876804326Z",
     "start_time": "2024-03-26T13:24:29.832101920Z"
    }
   },
   "id": "8a616bbe3622d67b",
   "execution_count": 29
  },
  {
   "cell_type": "code",
   "outputs": [
    {
     "data": {
      "text/plain": "         0    0    0    0    0  max_count\n0        0    0    0  106    0          0\n1        0    0    0  106    0          0\n2        0    0    0  106   27          0\n3        0    0    0  106    0          0\n4        0    0    0  106   27          0\n...    ...  ...  ...  ...  ...        ...\n11540  166  166  166  106  166        166\n11541  166  155  155  106  166        155\n11542  166    2    2  106  166          2\n11543  166  166  166  106  166        166\n11544  166  166  166  106  166        166\n\n[11545 rows x 6 columns]",
      "text/html": "<div>\n<style scoped>\n    .dataframe tbody tr th:only-of-type {\n        vertical-align: middle;\n    }\n\n    .dataframe tbody tr th {\n        vertical-align: top;\n    }\n\n    .dataframe thead th {\n        text-align: right;\n    }\n</style>\n<table border=\"1\" class=\"dataframe\">\n  <thead>\n    <tr style=\"text-align: right;\">\n      <th></th>\n      <th>0</th>\n      <th>0</th>\n      <th>0</th>\n      <th>0</th>\n      <th>0</th>\n      <th>max_count</th>\n    </tr>\n  </thead>\n  <tbody>\n    <tr>\n      <th>0</th>\n      <td>0</td>\n      <td>0</td>\n      <td>0</td>\n      <td>106</td>\n      <td>0</td>\n      <td>0</td>\n    </tr>\n    <tr>\n      <th>1</th>\n      <td>0</td>\n      <td>0</td>\n      <td>0</td>\n      <td>106</td>\n      <td>0</td>\n      <td>0</td>\n    </tr>\n    <tr>\n      <th>2</th>\n      <td>0</td>\n      <td>0</td>\n      <td>0</td>\n      <td>106</td>\n      <td>27</td>\n      <td>0</td>\n    </tr>\n    <tr>\n      <th>3</th>\n      <td>0</td>\n      <td>0</td>\n      <td>0</td>\n      <td>106</td>\n      <td>0</td>\n      <td>0</td>\n    </tr>\n    <tr>\n      <th>4</th>\n      <td>0</td>\n      <td>0</td>\n      <td>0</td>\n      <td>106</td>\n      <td>27</td>\n      <td>0</td>\n    </tr>\n    <tr>\n      <th>...</th>\n      <td>...</td>\n      <td>...</td>\n      <td>...</td>\n      <td>...</td>\n      <td>...</td>\n      <td>...</td>\n    </tr>\n    <tr>\n      <th>11540</th>\n      <td>166</td>\n      <td>166</td>\n      <td>166</td>\n      <td>106</td>\n      <td>166</td>\n      <td>166</td>\n    </tr>\n    <tr>\n      <th>11541</th>\n      <td>166</td>\n      <td>155</td>\n      <td>155</td>\n      <td>106</td>\n      <td>166</td>\n      <td>155</td>\n    </tr>\n    <tr>\n      <th>11542</th>\n      <td>166</td>\n      <td>2</td>\n      <td>2</td>\n      <td>106</td>\n      <td>166</td>\n      <td>2</td>\n    </tr>\n    <tr>\n      <th>11543</th>\n      <td>166</td>\n      <td>166</td>\n      <td>166</td>\n      <td>106</td>\n      <td>166</td>\n      <td>166</td>\n    </tr>\n    <tr>\n      <th>11544</th>\n      <td>166</td>\n      <td>166</td>\n      <td>166</td>\n      <td>106</td>\n      <td>166</td>\n      <td>166</td>\n    </tr>\n  </tbody>\n</table>\n<p>11545 rows × 6 columns</p>\n</div>"
     },
     "execution_count": 31,
     "metadata": {},
     "output_type": "execute_result"
    }
   ],
   "source": [
    "results['max_count']= results.apply(lambda row: row.mode().iloc[0], axis=1)\n",
    "results"
   ],
   "metadata": {
    "collapsed": false,
    "ExecuteTime": {
     "end_time": "2024-03-26T13:25:53.909866697Z",
     "start_time": "2024-03-26T13:25:53.499371362Z"
    }
   },
   "id": "1a023cbec5700df7",
   "execution_count": 31
  },
  {
   "cell_type": "code",
   "outputs": [
    {
     "data": {
      "text/plain": "       max_count\n0              0\n1              0\n2              0\n3              0\n4              0\n...          ...\n11540        166\n11541        155\n11542          2\n11543        166\n11544        166\n\n[11545 rows x 1 columns]",
      "text/html": "<div>\n<style scoped>\n    .dataframe tbody tr th:only-of-type {\n        vertical-align: middle;\n    }\n\n    .dataframe tbody tr th {\n        vertical-align: top;\n    }\n\n    .dataframe thead th {\n        text-align: right;\n    }\n</style>\n<table border=\"1\" class=\"dataframe\">\n  <thead>\n    <tr style=\"text-align: right;\">\n      <th></th>\n      <th>max_count</th>\n    </tr>\n  </thead>\n  <tbody>\n    <tr>\n      <th>0</th>\n      <td>0</td>\n    </tr>\n    <tr>\n      <th>1</th>\n      <td>0</td>\n    </tr>\n    <tr>\n      <th>2</th>\n      <td>0</td>\n    </tr>\n    <tr>\n      <th>3</th>\n      <td>0</td>\n    </tr>\n    <tr>\n      <th>4</th>\n      <td>0</td>\n    </tr>\n    <tr>\n      <th>...</th>\n      <td>...</td>\n    </tr>\n    <tr>\n      <th>11540</th>\n      <td>166</td>\n    </tr>\n    <tr>\n      <th>11541</th>\n      <td>155</td>\n    </tr>\n    <tr>\n      <th>11542</th>\n      <td>2</td>\n    </tr>\n    <tr>\n      <th>11543</th>\n      <td>166</td>\n    </tr>\n    <tr>\n      <th>11544</th>\n      <td>166</td>\n    </tr>\n  </tbody>\n</table>\n<p>11545 rows × 1 columns</p>\n</div>"
     },
     "execution_count": 77,
     "metadata": {},
     "output_type": "execute_result"
    }
   ],
   "source": [
    "max_count_res = results[['max_count']].copy()\n",
    "max_count_res = np.asarray(max_count_res)"
   ],
   "metadata": {
    "collapsed": false,
    "ExecuteTime": {
     "end_time": "2024-03-26T13:49:38.680491922Z",
     "start_time": "2024-03-26T13:49:38.636183887Z"
    }
   },
   "id": "ad178029c70ed19c",
   "execution_count": 77
  },
  {
   "cell_type": "code",
   "outputs": [
    {
     "ename": "AttributeError",
     "evalue": "'list' object has no attribute 'dtype'",
     "output_type": "error",
     "traceback": [
      "\u001B[0;31m---------------------------------------------------------------------------\u001B[0m",
      "\u001B[0;31mAttributeError\u001B[0m                            Traceback (most recent call last)",
      "Cell \u001B[0;32mIn[35], line 4\u001B[0m\n\u001B[1;32m      2\u001B[0m \u001B[38;5;28;01mfor\u001B[39;00m images, labels \u001B[38;5;129;01min\u001B[39;00m test_dataset_224_resnet\u001B[38;5;241m.\u001B[39munbatch():\n\u001B[1;32m      3\u001B[0m     y_labels\u001B[38;5;241m.\u001B[39mappend(labels\u001B[38;5;241m.\u001B[39mnumpy())\n\u001B[0;32m----> 4\u001B[0m \u001B[43my_labels\u001B[49m\u001B[38;5;241;43m.\u001B[39;49m\u001B[43mdtype\u001B[49m\n",
      "\u001B[0;31mAttributeError\u001B[0m: 'list' object has no attribute 'dtype'"
     ]
    }
   ],
   "source": [
    "y_labels = []\n",
    "for images, labels in test_dataset_224_resnet.unbatch():\n",
    "    y_labels.append(labels.numpy())\n",
    "import numpy as np\n",
    "y_labels = np.asarray(y_labels)\n",
    "y_labels = y_labels.argmax(axis=1)"
   ],
   "metadata": {
    "collapsed": false,
    "ExecuteTime": {
     "end_time": "2024-03-26T13:27:27.224370888Z",
     "start_time": "2024-03-26T13:27:23.032781076Z"
    }
   },
   "id": "90e625245d7ec03f",
   "execution_count": 35
  },
  {
   "cell_type": "code",
   "outputs": [],
   "source": [
    "mapping = {27:0, 37:1, 55:2, 58:3, 88:4,93:5, 97:6, 111:7, 120:8, 130:9, 138:10, 149:11}"
   ],
   "metadata": {
    "collapsed": false,
    "ExecuteTime": {
     "end_time": "2024-03-26T13:49:19.549318176Z",
     "start_time": "2024-03-26T13:49:19.545750806Z"
    }
   },
   "id": "f3628e791d76f8b8",
   "execution_count": 76
  },
  {
   "cell_type": "code",
   "outputs": [
    {
     "data": {
      "text/plain": "         0    1\n0        0    0\n1        0    0\n2        0    0\n3        0    0\n4        0    0\n...    ...  ...\n11540  166  166\n11541  166  155\n11542  166    2\n11543  166  166\n11544  166  166\n\n[11545 rows x 2 columns]",
      "text/html": "<div>\n<style scoped>\n    .dataframe tbody tr th:only-of-type {\n        vertical-align: middle;\n    }\n\n    .dataframe tbody tr th {\n        vertical-align: top;\n    }\n\n    .dataframe thead th {\n        text-align: right;\n    }\n</style>\n<table border=\"1\" class=\"dataframe\">\n  <thead>\n    <tr style=\"text-align: right;\">\n      <th></th>\n      <th>0</th>\n      <th>1</th>\n    </tr>\n  </thead>\n  <tbody>\n    <tr>\n      <th>0</th>\n      <td>0</td>\n      <td>0</td>\n    </tr>\n    <tr>\n      <th>1</th>\n      <td>0</td>\n      <td>0</td>\n    </tr>\n    <tr>\n      <th>2</th>\n      <td>0</td>\n      <td>0</td>\n    </tr>\n    <tr>\n      <th>3</th>\n      <td>0</td>\n      <td>0</td>\n    </tr>\n    <tr>\n      <th>4</th>\n      <td>0</td>\n      <td>0</td>\n    </tr>\n    <tr>\n      <th>...</th>\n      <td>...</td>\n      <td>...</td>\n    </tr>\n    <tr>\n      <th>11540</th>\n      <td>166</td>\n      <td>166</td>\n    </tr>\n    <tr>\n      <th>11541</th>\n      <td>166</td>\n      <td>155</td>\n    </tr>\n    <tr>\n      <th>11542</th>\n      <td>166</td>\n      <td>2</td>\n    </tr>\n    <tr>\n      <th>11543</th>\n      <td>166</td>\n      <td>166</td>\n    </tr>\n    <tr>\n      <th>11544</th>\n      <td>166</td>\n      <td>166</td>\n    </tr>\n  </tbody>\n</table>\n<p>11545 rows × 2 columns</p>\n</div>"
     },
     "execution_count": 90,
     "metadata": {},
     "output_type": "execute_result"
    }
   ],
   "source": [
    "yLabels_df = pd.DataFrame(y_labels)\n",
    "max_count_df = pd.DataFrame(max_count_res)\n",
    "max_count_df = max_count_df.rename(columns={0:1})\n",
    "sum = pd.concat([yLabels_df, max_count_df],axis=1 )\n",
    "sum"
   ],
   "metadata": {
    "collapsed": false,
    "ExecuteTime": {
     "end_time": "2024-03-26T13:59:12.085264794Z",
     "start_time": "2024-03-26T13:59:12.079726995Z"
    }
   },
   "id": "afaf42936ed5e76b",
   "execution_count": 90
  },
  {
   "cell_type": "code",
   "outputs": [
    {
     "name": "stdout",
     "output_type": "stream",
     "text": [
      "         0    1  Count\n",
      "0        0    0      1\n",
      "1        0    0      1\n",
      "2        0    0      1\n",
      "3        0    0      1\n",
      "4        0    0      1\n",
      "...    ...  ...    ...\n",
      "11540  166  166      1\n",
      "11541  166  155      0\n",
      "11542  166    2      0\n",
      "11543  166  166      1\n",
      "11544  166  166      1\n",
      "\n",
      "[11545 rows x 3 columns]\n"
     ]
    }
   ],
   "source": [
    "def compare_values(row):\n",
    "    val1 = row[0]  # Assuming the first column is the one to be compared\n",
    "    val2 = row[1]  # Assuming the second column is the one to be compared\n",
    "    \n",
    "    if val1 == val2:\n",
    "        return 1\n",
    "    elif val1 in mapping and mapping[val1] == val2:\n",
    "        return 1\n",
    "    else:\n",
    "        return 0\n",
    "sum_df = pd.DataFrame(sum)\n",
    "# Apply the custom function to each row and create a new column 'Count'\n",
    "sum_df['Count'] = sum_df.apply(compare_values, axis=1)\n",
    "\n",
    "print(sum_df)"
   ],
   "metadata": {
    "collapsed": false,
    "ExecuteTime": {
     "end_time": "2024-03-26T13:59:14.620945407Z",
     "start_time": "2024-03-26T13:59:14.597894309Z"
    }
   },
   "id": "c4b08169fa61fdb",
   "execution_count": 91
  },
  {
   "cell_type": "code",
   "outputs": [
    {
     "data": {
      "text/plain": "95.47856214811607"
     },
     "execution_count": 95,
     "metadata": {},
     "output_type": "execute_result"
    }
   ],
   "source": [
    "(11023/11545) * 100"
   ],
   "metadata": {
    "collapsed": false,
    "ExecuteTime": {
     "end_time": "2024-03-26T14:00:08.998155922Z",
     "start_time": "2024-03-26T14:00:08.994942437Z"
    }
   },
   "id": "bdbabf2107c284da",
   "execution_count": 95
  }
 ],
 "metadata": {
  "kernelspec": {
   "display_name": "Python 3",
   "language": "python",
   "name": "python3"
  },
  "language_info": {
   "codemirror_mode": {
    "name": "ipython",
    "version": 2
   },
   "file_extension": ".py",
   "mimetype": "text/x-python",
   "name": "python",
   "nbconvert_exporter": "python",
   "pygments_lexer": "ipython2",
   "version": "2.7.6"
  }
 },
 "nbformat": 4,
 "nbformat_minor": 5
}
