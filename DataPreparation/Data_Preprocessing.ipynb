{
 "cells": [
  {
   "cell_type": "markdown",
   "source": [
    "### TRAIN_TEST_SPLIT"
   ],
   "metadata": {
    "collapsed": false
   },
   "id": "f7f01a06633c1b56"
  },
  {
   "cell_type": "code",
   "execution_count": 19,
   "outputs": [
    {
     "ename": "FileNotFoundError",
     "evalue": "[Errno 2] No such file or directory: 'BIRDS1'",
     "output_type": "error",
     "traceback": [
      "\u001B[0;31m---------------------------------------------------------------------------\u001B[0m",
      "\u001B[0;31mFileNotFoundError\u001B[0m                         Traceback (most recent call last)",
      "Cell \u001B[0;32mIn[19], line 19\u001B[0m\n\u001B[1;32m     16\u001B[0m os\u001B[38;5;241m.\u001B[39mmakedirs(test_folder, exist_ok\u001B[38;5;241m=\u001B[39m\u001B[38;5;28;01mTrue\u001B[39;00m)\n\u001B[1;32m     18\u001B[0m \u001B[38;5;66;03m# Get list of bird class folders\u001B[39;00m\n\u001B[0;32m---> 19\u001B[0m bird_class_folders \u001B[38;5;241m=\u001B[39m [folder \u001B[38;5;28;01mfor\u001B[39;00m folder \u001B[38;5;129;01min\u001B[39;00m \u001B[43mos\u001B[49m\u001B[38;5;241;43m.\u001B[39;49m\u001B[43mlistdir\u001B[49m\u001B[43m(\u001B[49m\u001B[43mbirds_folder\u001B[49m\u001B[43m)\u001B[49m \u001B[38;5;28;01mif\u001B[39;00m os\u001B[38;5;241m.\u001B[39mpath\u001B[38;5;241m.\u001B[39misdir(os\u001B[38;5;241m.\u001B[39mpath\u001B[38;5;241m.\u001B[39mjoin(birds_folder, folder))]\n\u001B[1;32m     21\u001B[0m \u001B[38;5;66;03m# Create class folders in train and test folders\u001B[39;00m\n\u001B[1;32m     22\u001B[0m \u001B[38;5;28;01mfor\u001B[39;00m bird_class_folder \u001B[38;5;129;01min\u001B[39;00m bird_class_folders:\n",
      "\u001B[0;31mFileNotFoundError\u001B[0m: [Errno 2] No such file or directory: 'BIRDS1'"
     ]
    }
   ],
   "source": [
    "import os\n",
    "import random\n",
    "import shutil\n",
    "\n",
    "# Define paths\n",
    "birds_folder = \"BIRDS1\"\n",
    "split_folder = \"BIRDS1_split\"\n",
    "train_folder = os.path.join(split_folder, \"train\")\n",
    "test_folder = os.path.join(split_folder, \"test\")\n",
    "\n",
    "# Create split folder if it doesn't exist\n",
    "os.makedirs(split_folder, exist_ok=True)\n",
    "\n",
    "# Create train and test folders inside split folder\n",
    "os.makedirs(train_folder, exist_ok=True)\n",
    "os.makedirs(test_folder, exist_ok=True)\n",
    "\n",
    "# Get list of bird class folders\n",
    "bird_class_folders = [folder for folder in os.listdir(birds_folder) if os.path.isdir(os.path.join(birds_folder, folder))]\n",
    "\n",
    "# Create class folders in train and test folders\n",
    "for bird_class_folder in bird_class_folders:\n",
    "    train_class_folder = os.path.join(train_folder, bird_class_folder)\n",
    "    test_class_folder = os.path.join(test_folder, bird_class_folder)\n",
    "    os.makedirs(train_class_folder, exist_ok=True)\n",
    "    os.makedirs(test_class_folder, exist_ok=True)\n",
    "\n",
    "\n",
    "# Split dataset into train and test\n",
    "for bird_class_folder in bird_class_folders:\n",
    "    class_images = os.listdir(os.path.join(birds_folder, bird_class_folder))\n",
    "    random.shuffle(class_images)  # Shuffle images\n",
    "    split_index = int(0.75 * len(class_images))  # 80% train, 20% test\n",
    "\n",
    "    # Randomly split images into train and test\n",
    "    train_images = class_images[:split_index]\n",
    "    test_images = class_images[split_index:]\n",
    "\n",
    "    # Move images to train folder\n",
    "    for image in train_images:\n",
    "        src = os.path.join(birds_folder, bird_class_folder, image)\n",
    "        dst = os.path.join(train_folder, bird_class_folder, image)\n",
    "        if not os.path.exists(dst):\n",
    "            shutil.copy(src, dst)\n",
    "\n",
    "    # Move images to test folder\n",
    "    for image in test_images:\n",
    "        src = os.path.join(birds_folder, bird_class_folder, image)\n",
    "        dst = os.path.join(test_folder, bird_class_folder, image)\n",
    "        if not os.path.exists(dst):\n",
    "            shutil.copy(src, dst)\n",
    "\n",
    "print(\"Dataset split into train and test folders successfully.\")"
   ],
   "metadata": {
    "collapsed": false,
    "ExecuteTime": {
     "end_time": "2024-03-24T17:02:27.279778558Z",
     "start_time": "2024-03-24T17:02:27.237718721Z"
    }
   },
   "id": "b4eed33c8024113a"
  },
  {
   "cell_type": "markdown",
   "source": [
    "### Strip spaces from all folder names and remove spaces within the names with _"
   ],
   "metadata": {
    "collapsed": false
   },
   "id": "43cf8c70f13c6964"
  },
  {
   "cell_type": "code",
   "outputs": [
    {
     "ename": "FileNotFoundError",
     "evalue": "[Errno 2] No such file or directory: 'BIRDS1'",
     "output_type": "error",
     "traceback": [
      "\u001B[0;31m---------------------------------------------------------------------------\u001B[0m",
      "\u001B[0;31mFileNotFoundError\u001B[0m                         Traceback (most recent call last)",
      "Cell \u001B[0;32mIn[20], line 3\u001B[0m\n\u001B[1;32m      1\u001B[0m \u001B[38;5;28;01mimport\u001B[39;00m \u001B[38;5;21;01mos\u001B[39;00m\n\u001B[0;32m----> 3\u001B[0m \u001B[38;5;28;01mfor\u001B[39;00m folder_path \u001B[38;5;129;01min\u001B[39;00m \u001B[43mos\u001B[49m\u001B[38;5;241;43m.\u001B[39;49m\u001B[43mlistdir\u001B[49m\u001B[43m(\u001B[49m\u001B[38;5;124;43m\"\u001B[39;49m\u001B[38;5;124;43mBIRDS1\u001B[39;49m\u001B[38;5;124;43m\"\u001B[39;49m\u001B[43m)\u001B[49m:\n\u001B[1;32m      4\u001B[0m     path \u001B[38;5;241m=\u001B[39m folder_path\u001B[38;5;241m.\u001B[39mstrip()\n\u001B[1;32m      5\u001B[0m     path \u001B[38;5;241m=\u001B[39m path\u001B[38;5;241m.\u001B[39mlower()\n",
      "\u001B[0;31mFileNotFoundError\u001B[0m: [Errno 2] No such file or directory: 'BIRDS1'"
     ]
    }
   ],
   "source": [
    "import os\n",
    "\n",
    "for folder_path in os.listdir(\"BIRDS1\"):\n",
    "    path = folder_path.strip()\n",
    "    path = path.lower()\n",
    "    if ' ' in path:\n",
    "        print(path)\n",
    "        path = path.replace(' ', '_')\n",
    "    if '-' in path:\n",
    "        path = path.replace('-', '_')\n",
    "    os.rename(\"BIRDS1/\"+folder_path, \"BIRDS1/\"+path)"
   ],
   "metadata": {
    "collapsed": false,
    "ExecuteTime": {
     "end_time": "2024-03-24T17:02:27.299251957Z",
     "start_time": "2024-03-24T17:02:27.279914011Z"
    }
   },
   "id": "579d6cd925487159",
   "execution_count": 20
  },
  {
   "cell_type": "code",
   "execution_count": null,
   "outputs": [
    {
     "name": "stderr",
     "output_type": "stream",
     "text": [
      "2024-03-24 13:02:27.408590: I tensorflow/core/util/port.cc:111] oneDNN custom operations are on. You may see slightly different numerical results due to floating-point round-off errors from different computation orders. To turn them off, set the environment variable `TF_ENABLE_ONEDNN_OPTS=0`.\n",
      "2024-03-24 13:02:27.436499: E tensorflow/compiler/xla/stream_executor/cuda/cuda_dnn.cc:9342] Unable to register cuDNN factory: Attempting to register factory for plugin cuDNN when one has already been registered\n",
      "2024-03-24 13:02:27.436529: E tensorflow/compiler/xla/stream_executor/cuda/cuda_fft.cc:609] Unable to register cuFFT factory: Attempting to register factory for plugin cuFFT when one has already been registered\n",
      "2024-03-24 13:02:27.436560: E tensorflow/compiler/xla/stream_executor/cuda/cuda_blas.cc:1518] Unable to register cuBLAS factory: Attempting to register factory for plugin cuBLAS when one has already been registered\n",
      "2024-03-24 13:02:27.443071: I tensorflow/core/platform/cpu_feature_guard.cc:182] This TensorFlow binary is optimized to use available CPU instructions in performance-critical operations.\n",
      "To enable the following instructions: AVX2 AVX512F AVX512_VNNI AVX512_BF16 FMA, in other operations, rebuild TensorFlow with the appropriate compiler flags.\n"
     ]
    }
   ],
   "source": [
    "import tensorflow as tf\n",
    "def reset_gpu_memory():\n",
    "    gpus = tf.config.experimental.list_physical_devices('GPU')\n",
    "    if gpus:\n",
    "        try:\n",
    "            # Currently, memory growth needs to be the same across GPUs\n",
    "            for gpu in gpus:\n",
    "                tf.config.experimental.set_memory_growth(gpu, True)\n",
    "            logical_gpus = tf.config.experimental.list_logical_devices('GPU')\n",
    "            print(len(gpus), \"Physical GPUs,\", len(logical_gpus), \"Logical GPUs\")\n",
    "        except RuntimeError as e:\n",
    "            # Memory growth must be set before GPUs have been initialized\n",
    "            print(e)\n",
    "\n",
    "# Call the function to reset GPU memory\n",
    "reset_gpu_memory()"
   ],
   "metadata": {
    "collapsed": false,
    "ExecuteTime": {
     "start_time": "2024-03-24T17:02:27.291375490Z"
    }
   },
   "id": "ed8f6f7897e468b8"
  },
  {
   "cell_type": "code",
   "outputs": [],
   "source": [
    "import os\n",
    "\n",
    "def delete_files_with_pattern(root_folder, pattern):\n",
    "    for dirpath, dirnames, filenames in os.walk(root_folder):\n",
    "        for filename in filenames:\n",
    "            if pattern in filename:\n",
    "                file_path = os.path.join(dirpath, filename)\n",
    "                try:\n",
    "                    os.remove(file_path)\n",
    "                    print(f\"Deleted file: {file_path}\")\n",
    "                except Exception as e:\n",
    "                    print(f\"Error deleting file {file_path}: {e}\")\n",
    "\n",
    "if __name__ == \"__main__\":\n",
    "    root_folder = \"birds1\"\n",
    "    pattern = \"cropped\"\n",
    "\n",
    "    delete_files_with_pattern(root_folder, pattern)\n"
   ],
   "metadata": {
    "collapsed": false
   },
   "id": "8a79b6ddeb554939",
   "execution_count": null
  }
 ],
 "metadata": {
  "kernelspec": {
   "display_name": "Python 3",
   "language": "python",
   "name": "python3"
  },
  "language_info": {
   "codemirror_mode": {
    "name": "ipython",
    "version": 2
   },
   "file_extension": ".py",
   "mimetype": "text/x-python",
   "name": "python",
   "nbconvert_exporter": "python",
   "pygments_lexer": "ipython2",
   "version": "2.7.6"
  }
 },
 "nbformat": 4,
 "nbformat_minor": 5
}
